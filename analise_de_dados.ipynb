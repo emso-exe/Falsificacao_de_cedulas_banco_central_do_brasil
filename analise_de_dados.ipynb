{
 "cells": [
  {
   "cell_type": "markdown",
   "metadata": {},
   "source": [
    "# Análise de dados: Falsificação de cédulas de Real (R$)\n",
    "\n",
    "Neste projeto serão analisados os dados de reclamações de consumidores com uma empresa de telecomunicações no 1º semestre de 2021, são dados (.csv) reais extraídos do site [consumidor.gov.br](https://www.consumidor.gov.br) disponibilizados pelo [Portal de dados do Ministério da Justiça](http://dados.mj.gov.br/).\n",
    "\n",
    "Neste projeto serão analisados os dados de falsificação de cédulas de Real (R$) de 1995 até 2020, são informações (.csv) legítimas extraídas do portal de [Dados Abertos](https://dadosabertos.bcb.gov.br/) disponibilizados pelo [Banco Central do Brasil](https://www.bcb.gov.br/).\n",
    "\n",
    "## Demanda da análise\n",
    "\n",
    "- Demonstrar a evolução das falsificações\n",
    "- Identificar as cédulas mais falsificadas\n",
    "- Identificar os estados com mais incidência de falsificações\n",
    "- Estimar para os próximos anos a incidência de falsificações\n",
    "\n",
    "## Indagações a serem respondidas pela análise exploratória dos dados\n",
    "\n",
    "1. Qual a quantidade/percentual de falsificações por cédula?\n",
    "2. Qual a quantidade/percentual de falsificações por cédula?\n",
    "3. Qual a quantidade/percentual de falsificações por ano?\n",
    "4. Qual a quantidade/percentual de falsificações por ano?\n",
    "5. Qual a quantidade/percentual de falsificações por cédula/ano?\n",
    "6. Qual a quantidade/percentual de falsificações por cédula/ano?\n",
    "7. Qual a estimativa de falsificações por cédula/ano (2021 e 2022)?\n",
    "8. Qual a estimativa de falsificações por cédula/ano (2021 e 2022)?"
   ]
  },
  {
   "cell_type": "markdown",
   "metadata": {},
   "source": [
    "## Importação de pacotes"
   ]
  },
  {
   "cell_type": "code",
   "execution_count": 9,
   "metadata": {},
   "outputs": [],
   "source": [
    "import pandas as pd\n",
    "import matplotlib.pyplot as plt\n",
    "import matplotlib.patches as mp\n",
    "import seaborn as sns\n",
    "import glob\n",
    "\n",
    "sns.set_style('darkgrid')"
   ]
  },
  {
   "cell_type": "markdown",
   "metadata": {},
   "source": [
    "## Carregamento dos dados"
   ]
  },
  {
   "cell_type": "code",
   "execution_count": 47,
   "metadata": {},
   "outputs": [],
   "source": [
    "# Criando um dataframe atribuindoo o arquivo csv no diretório dados e definindo o nome das colunas\n",
    "\n",
    "df = pd.read_csv('dados/Falsificacao_DadosAbertos.csv', sep=';', header=None)\n",
    "\n",
    "df.columns = ['Ano', 'Estado', 'Família', 'Denominação', 'Quantidade']\n"
   ]
  },
  {
   "cell_type": "markdown",
   "metadata": {},
   "source": [
    "## Detalhes do dataframe"
   ]
  },
  {
   "cell_type": "code",
   "execution_count": 48,
   "metadata": {},
   "outputs": [
    {
     "data": {
      "text/html": [
       "<div>\n",
       "<style scoped>\n",
       "    .dataframe tbody tr th:only-of-type {\n",
       "        vertical-align: middle;\n",
       "    }\n",
       "\n",
       "    .dataframe tbody tr th {\n",
       "        vertical-align: top;\n",
       "    }\n",
       "\n",
       "    .dataframe thead th {\n",
       "        text-align: right;\n",
       "    }\n",
       "</style>\n",
       "<table border=\"1\" class=\"dataframe\">\n",
       "  <thead>\n",
       "    <tr style=\"text-align: right;\">\n",
       "      <th></th>\n",
       "      <th>Ano</th>\n",
       "      <th>Estado</th>\n",
       "      <th>Família</th>\n",
       "      <th>Denominação</th>\n",
       "      <th>Quantidade</th>\n",
       "    </tr>\n",
       "  </thead>\n",
       "  <tbody>\n",
       "    <tr>\n",
       "      <th>366</th>\n",
       "      <td>2001</td>\n",
       "      <td>ESPÍRITO SANTO</td>\n",
       "      <td>Cédulas - 1a. família</td>\n",
       "      <td>1.0</td>\n",
       "      <td>2,00</td>\n",
       "    </tr>\n",
       "    <tr>\n",
       "      <th>1438</th>\n",
       "      <td>2006</td>\n",
       "      <td>RONDÔNIA</td>\n",
       "      <td>Cédulas - 1a. família</td>\n",
       "      <td>20.0</td>\n",
       "      <td>107,00</td>\n",
       "    </tr>\n",
       "    <tr>\n",
       "      <th>4112</th>\n",
       "      <td>2017</td>\n",
       "      <td>DISTRITO FEDERAL</td>\n",
       "      <td>Cédulas - 1a. família</td>\n",
       "      <td>2.0</td>\n",
       "      <td>38,00</td>\n",
       "    </tr>\n",
       "    <tr>\n",
       "      <th>3720</th>\n",
       "      <td>2015</td>\n",
       "      <td>TOCANTINS</td>\n",
       "      <td>Cédulas - 1a. família</td>\n",
       "      <td>10.0</td>\n",
       "      <td>7,00</td>\n",
       "    </tr>\n",
       "    <tr>\n",
       "      <th>1778</th>\n",
       "      <td>2008</td>\n",
       "      <td>NAO INFORMADO</td>\n",
       "      <td>Cédulas - 1a. família</td>\n",
       "      <td>50.0</td>\n",
       "      <td>41,00</td>\n",
       "    </tr>\n",
       "    <tr>\n",
       "      <th>3722</th>\n",
       "      <td>2015</td>\n",
       "      <td>TOCANTINS</td>\n",
       "      <td>Cédulas - 1a. família</td>\n",
       "      <td>20.0</td>\n",
       "      <td>30,00</td>\n",
       "    </tr>\n",
       "    <tr>\n",
       "      <th>335</th>\n",
       "      <td>2001</td>\n",
       "      <td>ALAGOAS</td>\n",
       "      <td>Cédulas - 1a. família</td>\n",
       "      <td>10.0</td>\n",
       "      <td>1.234,00</td>\n",
       "    </tr>\n",
       "    <tr>\n",
       "      <th>1986</th>\n",
       "      <td>2009</td>\n",
       "      <td>PARÁ</td>\n",
       "      <td>Cédulas - 1a. família</td>\n",
       "      <td>50.0</td>\n",
       "      <td>2.778,00</td>\n",
       "    </tr>\n",
       "    <tr>\n",
       "      <th>1637</th>\n",
       "      <td>2007</td>\n",
       "      <td>RONDÔNIA</td>\n",
       "      <td>Cédulas - 1a. família</td>\n",
       "      <td>2.0</td>\n",
       "      <td>20,00</td>\n",
       "    </tr>\n",
       "    <tr>\n",
       "      <th>992</th>\n",
       "      <td>2004</td>\n",
       "      <td>PERNAMBUCO</td>\n",
       "      <td>Cédulas - 1a. família</td>\n",
       "      <td>50.0</td>\n",
       "      <td>9.916,00</td>\n",
       "    </tr>\n",
       "  </tbody>\n",
       "</table>\n",
       "</div>"
      ],
      "text/plain": [
       "       Ano            Estado                Família  Denominação Quantidade\n",
       "366   2001    ESPÍRITO SANTO  Cédulas - 1a. família          1.0       2,00\n",
       "1438  2006          RONDÔNIA  Cédulas - 1a. família         20.0     107,00\n",
       "4112  2017  DISTRITO FEDERAL  Cédulas - 1a. família          2.0      38,00\n",
       "3720  2015         TOCANTINS  Cédulas - 1a. família         10.0       7,00\n",
       "1778  2008     NAO INFORMADO  Cédulas - 1a. família         50.0      41,00\n",
       "3722  2015         TOCANTINS  Cédulas - 1a. família         20.0      30,00\n",
       "335   2001           ALAGOAS  Cédulas - 1a. família         10.0   1.234,00\n",
       "1986  2009              PARÁ  Cédulas - 1a. família         50.0   2.778,00\n",
       "1637  2007          RONDÔNIA  Cédulas - 1a. família          2.0      20,00\n",
       "992   2004        PERNAMBUCO  Cédulas - 1a. família         50.0   9.916,00"
      ]
     },
     "execution_count": 48,
     "metadata": {},
     "output_type": "execute_result"
    }
   ],
   "source": [
    "df.sample(10)"
   ]
  },
  {
   "cell_type": "code",
   "execution_count": 50,
   "metadata": {},
   "outputs": [
    {
     "data": {
      "text/plain": [
       "(5680, 5)"
      ]
     },
     "execution_count": 50,
     "metadata": {},
     "output_type": "execute_result"
    }
   ],
   "source": [
    "df.shape"
   ]
  },
  {
   "cell_type": "code",
   "execution_count": 51,
   "metadata": {},
   "outputs": [
    {
     "data": {
      "text/plain": [
       "(5680, 4)"
      ]
     },
     "execution_count": 51,
     "metadata": {},
     "output_type": "execute_result"
    }
   ],
   "source": [
    "# Removendo a coluna que não será utilizada na análise\n",
    "\n",
    "df = df.drop(columns=['Família'])\n",
    "df.shape"
   ]
  },
  {
   "cell_type": "code",
   "execution_count": 52,
   "metadata": {},
   "outputs": [
    {
     "name": "stdout",
     "output_type": "stream",
     "text": [
      "<class 'pandas.core.frame.DataFrame'>\n",
      "RangeIndex: 5680 entries, 0 to 5679\n",
      "Data columns (total 4 columns):\n",
      " #   Column       Non-Null Count  Dtype  \n",
      "---  ------       --------------  -----  \n",
      " 0   Ano          5680 non-null   int64  \n",
      " 1   Estado       5680 non-null   object \n",
      " 2   Denominação  5680 non-null   float64\n",
      " 3   Quantidade   5680 non-null   object \n",
      "dtypes: float64(1), int64(1), object(2)\n",
      "memory usage: 177.6+ KB\n"
     ]
    }
   ],
   "source": [
    "df.info()"
   ]
  },
  {
   "cell_type": "markdown",
   "metadata": {},
   "source": [
    "## Tratando valores nulos"
   ]
  },
  {
   "cell_type": "code",
   "execution_count": 53,
   "metadata": {},
   "outputs": [
    {
     "data": {
      "text/plain": [
       "Ano            0\n",
       "Estado         0\n",
       "Denominação    0\n",
       "Quantidade     0\n",
       "dtype: int64"
      ]
     },
     "execution_count": 53,
     "metadata": {},
     "output_type": "execute_result"
    }
   ],
   "source": [
    "df.isnull().sum()"
   ]
  },
  {
   "cell_type": "markdown",
   "metadata": {},
   "source": [
    "## Tratando os tipos de valores"
   ]
  },
  {
   "cell_type": "code",
   "execution_count": 54,
   "metadata": {},
   "outputs": [
    {
     "data": {
      "text/plain": [
       "Ano              int64\n",
       "Estado          object\n",
       "Denominação    float64\n",
       "Quantidade      object\n",
       "dtype: object"
      ]
     },
     "execution_count": 54,
     "metadata": {},
     "output_type": "execute_result"
    }
   ],
   "source": [
    "df.dtypes"
   ]
  },
  {
   "cell_type": "code",
   "execution_count": 62,
   "metadata": {},
   "outputs": [
    {
     "name": "stdout",
     "output_type": "stream",
     "text": [
      "<class 'pandas.core.frame.DataFrame'>\n",
      "RangeIndex: 5680 entries, 0 to 5679\n",
      "Data columns (total 4 columns):\n",
      " #   Column       Non-Null Count  Dtype  \n",
      "---  ------       --------------  -----  \n",
      " 0   Ano          5680 non-null   int8   \n",
      " 1   Estado       5680 non-null   object \n",
      " 2   Denominação  5680 non-null   float64\n",
      " 3   Quantidade   5680 non-null   object \n",
      "dtypes: float64(1), int8(1), object(2)\n",
      "memory usage: 138.8+ KB\n"
     ]
    }
   ],
   "source": [
    "df['Ano'] = df['Ano'].astype('int8', errors='ignore')\n",
    "df['Quantidade'] = df['Quantidade'].astype('int64', errors='ignore')\n",
    "\n",
    "df.info()\n"
   ]
  },
  {
   "cell_type": "code",
   "execution_count": 58,
   "metadata": {},
   "outputs": [
    {
     "data": {
      "text/plain": [
       "Ano            5680\n",
       "Estado         5680\n",
       "Denominação    5680\n",
       "Quantidade     5680\n",
       "dtype: int64"
      ]
     },
     "execution_count": 58,
     "metadata": {},
     "output_type": "execute_result"
    }
   ],
   "source": [
    "df.count()"
   ]
  },
  {
   "cell_type": "markdown",
   "metadata": {},
   "source": [
    "## 1. Qual a quantidade/percentual de falsificações por cédula?"
   ]
  },
  {
   "cell_type": "code",
   "execution_count": null,
   "metadata": {},
   "outputs": [],
   "source": []
  },
  {
   "cell_type": "markdown",
   "metadata": {},
   "source": [
    "## 2. Qual a quantidade/percentual de falsificações por cédula?"
   ]
  },
  {
   "cell_type": "code",
   "execution_count": null,
   "metadata": {},
   "outputs": [],
   "source": []
  },
  {
   "cell_type": "markdown",
   "metadata": {},
   "source": [
    "## 3. Qual a quantidade/percentual de falsificações por ano?"
   ]
  },
  {
   "cell_type": "code",
   "execution_count": null,
   "metadata": {},
   "outputs": [],
   "source": []
  },
  {
   "cell_type": "markdown",
   "metadata": {},
   "source": [
    "## 4. Qual a quantidade/percentual de falsificações por ano?"
   ]
  },
  {
   "cell_type": "code",
   "execution_count": null,
   "metadata": {},
   "outputs": [],
   "source": []
  },
  {
   "cell_type": "markdown",
   "metadata": {},
   "source": [
    "## 5. Qual a quantidade/percentual de falsificações por cédula/ano?"
   ]
  },
  {
   "cell_type": "code",
   "execution_count": null,
   "metadata": {},
   "outputs": [],
   "source": []
  },
  {
   "cell_type": "markdown",
   "metadata": {},
   "source": [
    "## 6. Qual a quantidade/percentual de falsificações por cédula/ano?"
   ]
  },
  {
   "cell_type": "code",
   "execution_count": null,
   "metadata": {},
   "outputs": [],
   "source": []
  },
  {
   "cell_type": "markdown",
   "metadata": {},
   "source": [
    "## 7. Qual a estimativa de falsificações por cédula/ano (2021 e 2022)?"
   ]
  },
  {
   "cell_type": "code",
   "execution_count": null,
   "metadata": {},
   "outputs": [],
   "source": []
  },
  {
   "cell_type": "markdown",
   "metadata": {},
   "source": [
    "## 8. Qual a estimativa de falsificações por cédula/ano (2021 e 2022)?"
   ]
  },
  {
   "cell_type": "code",
   "execution_count": null,
   "metadata": {},
   "outputs": [],
   "source": []
  }
 ],
 "metadata": {
  "interpreter": {
   "hash": "ee5cc6fef2d70a7e71ee3826687cbd150f18158e0b1eef11d4f4f92bb920e304"
  },
  "kernelspec": {
   "display_name": "Python 3",
   "language": "python",
   "name": "python3"
  },
  "language_info": {
   "codemirror_mode": {
    "name": "ipython",
    "version": 3
   },
   "file_extension": ".py",
   "mimetype": "text/x-python",
   "name": "python",
   "nbconvert_exporter": "python",
   "pygments_lexer": "ipython3",
   "version": "3.9.0"
  }
 },
 "nbformat": 4,
 "nbformat_minor": 4
}
