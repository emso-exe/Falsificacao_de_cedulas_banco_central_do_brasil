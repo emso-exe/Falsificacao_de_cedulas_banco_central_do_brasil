{
 "cells": [
  {
   "cell_type": "markdown",
   "metadata": {},
   "source": [
    "# Análise de dados: Falsificação de cédulas de Real (R$)\n",
    "\n",
    "Neste projeto serão analisados os dados de reclamações de consumidores com uma empresa de telecomunicações no 1º semestre de 2021, são dados (.csv) reais extraídos do site [consumidor.gov.br](https://www.consumidor.gov.br) disponibilizados pelo [Portal de dados do Ministério da Justiça](http://dados.mj.gov.br/).\n",
    "\n",
    "Neste projeto serão analisados os dados de falsificação de cédulas de Real (R$) de 1995 até 2020, são informações (.csv) legítimas extraídas do portal de [Dados Abertos](https://dadosabertos.bcb.gov.br/) disponibilizados pelo [Banco Central do Brasil](https://www.bcb.gov.br/).\n",
    "\n",
    "## Demanda da análise\n",
    "\n",
    "- Demonstrar a evolução das falsificações\n",
    "- Identificar as cédulas mais falsificadas\n",
    "- Identificar os estados com mais incidência de falsificações\n",
    "- Estimar para os próximos anos a incidência de falsificações\n",
    "\n",
    "## Indagações a serem respondidas pela análise exploratória dos dados\n",
    "\n",
    "1. Qual a quantidade/percentual de falsificações por cédula?\n",
    "2. Qual a quantidade/percentual de falsificações por cédula?\n",
    "3. Qual a quantidade/percentual de falsificações por ano?\n",
    "4. Qual a quantidade/percentual de falsificações por ano?\n",
    "5. Qual a quantidade/percentual de falsificações por cédula/ano?\n",
    "6. Qual a quantidade/percentual de falsificações por cédula/ano?\n",
    "7. Qual a estimativa de falsificações por cédula/ano (2021 e 2022)?\n",
    "8. Qual a estimativa de falsificações por cédula/ano (2021 e 2022)?"
   ]
  },
  {
   "cell_type": "markdown",
   "metadata": {},
   "source": [
    "## Importação de pacotes"
   ]
  },
  {
   "cell_type": "code",
   "execution_count": 48,
   "metadata": {},
   "outputs": [],
   "source": [
    "# Importação de pacotes e definição de parâmetros globais\n",
    "\n",
    "import pandas as pd\n",
    "import matplotlib.pyplot as plt\n",
    "import matplotlib.patches as mp\n",
    "import seaborn as sns\n",
    "\n",
    "sns.set_style('darkgrid')"
   ]
  },
  {
   "cell_type": "markdown",
   "metadata": {},
   "source": [
    "## Carregamento dos dados"
   ]
  },
  {
   "cell_type": "code",
   "execution_count": 49,
   "metadata": {},
   "outputs": [],
   "source": [
    "# Criando um dataframe atribuindo o arquivo csv no diretório dados e definindo o nome das colunas\n",
    "\n",
    "df = pd.read_csv('dados/Falsificacao_DadosAbertos.csv', sep=';', header=None)\n",
    "\n",
    "df.columns = ['Ano', 'Estado', 'Família', 'Denominação', 'Quantidade']\n"
   ]
  },
  {
   "cell_type": "markdown",
   "metadata": {},
   "source": [
    "## Detalhes do dataframe"
   ]
  },
  {
   "cell_type": "code",
   "execution_count": 50,
   "metadata": {},
   "outputs": [
    {
     "data": {
      "text/html": [
       "<div>\n",
       "<style scoped>\n",
       "    .dataframe tbody tr th:only-of-type {\n",
       "        vertical-align: middle;\n",
       "    }\n",
       "\n",
       "    .dataframe tbody tr th {\n",
       "        vertical-align: top;\n",
       "    }\n",
       "\n",
       "    .dataframe thead th {\n",
       "        text-align: right;\n",
       "    }\n",
       "</style>\n",
       "<table border=\"1\" class=\"dataframe\">\n",
       "  <thead>\n",
       "    <tr style=\"text-align: right;\">\n",
       "      <th></th>\n",
       "      <th>Ano</th>\n",
       "      <th>Estado</th>\n",
       "      <th>Família</th>\n",
       "      <th>Denominação</th>\n",
       "      <th>Quantidade</th>\n",
       "    </tr>\n",
       "  </thead>\n",
       "  <tbody>\n",
       "    <tr>\n",
       "      <th>2238</th>\n",
       "      <td>2010</td>\n",
       "      <td>RONDÔNIA</td>\n",
       "      <td>Cédulas - em polímero</td>\n",
       "      <td>10.0</td>\n",
       "      <td>1,00</td>\n",
       "    </tr>\n",
       "    <tr>\n",
       "      <th>4035</th>\n",
       "      <td>2016</td>\n",
       "      <td>TOCANTINS</td>\n",
       "      <td>Cédulas - 2a. família</td>\n",
       "      <td>5.0</td>\n",
       "      <td>6,00</td>\n",
       "    </tr>\n",
       "    <tr>\n",
       "      <th>3663</th>\n",
       "      <td>2015</td>\n",
       "      <td>RONDÔNIA</td>\n",
       "      <td>Cédulas - 1a. família</td>\n",
       "      <td>10.0</td>\n",
       "      <td>21,00</td>\n",
       "    </tr>\n",
       "    <tr>\n",
       "      <th>5204</th>\n",
       "      <td>2020</td>\n",
       "      <td>PARANÁ</td>\n",
       "      <td>Cédulas - 2a. família</td>\n",
       "      <td>50.0</td>\n",
       "      <td>2.107,00</td>\n",
       "    </tr>\n",
       "    <tr>\n",
       "      <th>4686</th>\n",
       "      <td>2018</td>\n",
       "      <td>TOCANTINS</td>\n",
       "      <td>Cédulas - 1a. família</td>\n",
       "      <td>50.0</td>\n",
       "      <td>87,00</td>\n",
       "    </tr>\n",
       "    <tr>\n",
       "      <th>4718</th>\n",
       "      <td>2019</td>\n",
       "      <td>AMAPÁ</td>\n",
       "      <td>Cédulas - 2a. família</td>\n",
       "      <td>50.0</td>\n",
       "      <td>39,00</td>\n",
       "    </tr>\n",
       "    <tr>\n",
       "      <th>863</th>\n",
       "      <td>2004</td>\n",
       "      <td>ACRE</td>\n",
       "      <td>Cédulas - 1a. família</td>\n",
       "      <td>10.0</td>\n",
       "      <td>53,00</td>\n",
       "    </tr>\n",
       "    <tr>\n",
       "      <th>1690</th>\n",
       "      <td>2008</td>\n",
       "      <td>ALAGOAS</td>\n",
       "      <td>Cédulas - 1a. família</td>\n",
       "      <td>20.0</td>\n",
       "      <td>377,00</td>\n",
       "    </tr>\n",
       "    <tr>\n",
       "      <th>5143</th>\n",
       "      <td>2020</td>\n",
       "      <td>MATO GROSSO</td>\n",
       "      <td>Cédulas - 2a. família</td>\n",
       "      <td>200.0</td>\n",
       "      <td>1,00</td>\n",
       "    </tr>\n",
       "    <tr>\n",
       "      <th>1665</th>\n",
       "      <td>2007</td>\n",
       "      <td>SÃO PAULO</td>\n",
       "      <td>Cédulas - 1a. família</td>\n",
       "      <td>100.0</td>\n",
       "      <td>4.268,00</td>\n",
       "    </tr>\n",
       "  </tbody>\n",
       "</table>\n",
       "</div>"
      ],
      "text/plain": [
       "       Ano       Estado                Família  Denominação Quantidade\n",
       "2238  2010     RONDÔNIA  Cédulas - em polímero         10.0       1,00\n",
       "4035  2016    TOCANTINS  Cédulas - 2a. família          5.0       6,00\n",
       "3663  2015     RONDÔNIA  Cédulas - 1a. família         10.0      21,00\n",
       "5204  2020       PARANÁ  Cédulas - 2a. família         50.0   2.107,00\n",
       "4686  2018    TOCANTINS  Cédulas - 1a. família         50.0      87,00\n",
       "4718  2019        AMAPÁ  Cédulas - 2a. família         50.0      39,00\n",
       "863   2004         ACRE  Cédulas - 1a. família         10.0      53,00\n",
       "1690  2008      ALAGOAS  Cédulas - 1a. família         20.0     377,00\n",
       "5143  2020  MATO GROSSO  Cédulas - 2a. família        200.0       1,00\n",
       "1665  2007    SÃO PAULO  Cédulas - 1a. família        100.0   4.268,00"
      ]
     },
     "execution_count": 50,
     "metadata": {},
     "output_type": "execute_result"
    }
   ],
   "source": [
    "# Amostra de dados do dataframe\n",
    "\n",
    "df.sample(10)"
   ]
  },
  {
   "cell_type": "code",
   "execution_count": 51,
   "metadata": {},
   "outputs": [
    {
     "data": {
      "text/plain": [
       "(5680, 5)"
      ]
     },
     "execution_count": 51,
     "metadata": {},
     "output_type": "execute_result"
    }
   ],
   "source": [
    "# Quantidade de linhas e colunas\n",
    "\n",
    "df.shape"
   ]
  },
  {
   "cell_type": "code",
   "execution_count": 52,
   "metadata": {},
   "outputs": [
    {
     "data": {
      "text/plain": [
       "(5680, 4)"
      ]
     },
     "execution_count": 52,
     "metadata": {},
     "output_type": "execute_result"
    }
   ],
   "source": [
    "# Removendo a coluna que não será utilizada na análise\n",
    "\n",
    "df = df.drop(columns=['Família'])\n",
    "df.shape"
   ]
  },
  {
   "cell_type": "code",
   "execution_count": 53,
   "metadata": {},
   "outputs": [
    {
     "name": "stdout",
     "output_type": "stream",
     "text": [
      "<class 'pandas.core.frame.DataFrame'>\n",
      "RangeIndex: 5680 entries, 0 to 5679\n",
      "Data columns (total 4 columns):\n",
      " #   Column       Non-Null Count  Dtype  \n",
      "---  ------       --------------  -----  \n",
      " 0   Ano          5680 non-null   int64  \n",
      " 1   Estado       5680 non-null   object \n",
      " 2   Denominação  5680 non-null   float64\n",
      " 3   Quantidade   5680 non-null   object \n",
      "dtypes: float64(1), int64(1), object(2)\n",
      "memory usage: 177.6+ KB\n"
     ]
    }
   ],
   "source": [
    "# Informações das colunas como nome, contagem de linhas nulas e tipo de dados\n",
    "\n",
    "df.info()"
   ]
  },
  {
   "cell_type": "markdown",
   "metadata": {},
   "source": [
    "## Tratando valores nulos"
   ]
  },
  {
   "cell_type": "code",
   "execution_count": 54,
   "metadata": {},
   "outputs": [
    {
     "data": {
      "text/plain": [
       "Ano            0\n",
       "Estado         0\n",
       "Denominação    0\n",
       "Quantidade     0\n",
       "dtype: int64"
      ]
     },
     "execution_count": 54,
     "metadata": {},
     "output_type": "execute_result"
    }
   ],
   "source": [
    "# Identificando a quantidade de valores nulos, no caso não há dados nulos\n",
    "\n",
    "df.isnull().sum()"
   ]
  },
  {
   "cell_type": "markdown",
   "metadata": {},
   "source": [
    "## Tratando os tipos de valores"
   ]
  },
  {
   "cell_type": "code",
   "execution_count": 55,
   "metadata": {},
   "outputs": [
    {
     "data": {
      "text/plain": [
       "Ano              int64\n",
       "Estado          object\n",
       "Denominação    float64\n",
       "Quantidade      object\n",
       "dtype: object"
      ]
     },
     "execution_count": 55,
     "metadata": {},
     "output_type": "execute_result"
    }
   ],
   "source": [
    "# Identificando os tipos de dados das colunas\n",
    "\n",
    "df.dtypes"
   ]
  },
  {
   "cell_type": "code",
   "execution_count": 56,
   "metadata": {},
   "outputs": [
    {
     "name": "stdout",
     "output_type": "stream",
     "text": [
      "<class 'pandas.core.frame.DataFrame'>\n",
      "RangeIndex: 5680 entries, 0 to 5679\n",
      "Data columns (total 4 columns):\n",
      " #   Column       Non-Null Count  Dtype  \n",
      "---  ------       --------------  -----  \n",
      " 0   Ano          5680 non-null   int32  \n",
      " 1   Estado       5680 non-null   object \n",
      " 2   Denominação  5680 non-null   float64\n",
      " 3   Quantidade   5680 non-null   int32  \n",
      "dtypes: float64(1), int32(2), object(1)\n",
      "memory usage: 133.2+ KB\n",
      "<class 'pandas.core.frame.DataFrame'>\n",
      "RangeIndex: 5680 entries, 0 to 5679\n",
      "Data columns (total 4 columns):\n",
      " #   Column       Non-Null Count  Dtype  \n",
      "---  ------       --------------  -----  \n",
      " 0   Ano          5680 non-null   int32  \n",
      " 1   Estado       5680 non-null   object \n",
      " 2   Denominação  5680 non-null   float64\n",
      " 3   Quantidade   5680 non-null   int32  \n",
      "dtypes: float64(1), int32(2), object(1)\n",
      "memory usage: 133.2+ KB\n"
     ]
    }
   ],
   "source": [
    "# Efetuando as conversões necessárias dos tipos de dados e exibindo novamente as informações das colunas\n",
    "\n",
    "df['Ano'] = df['Ano'].astype('int')\n",
    "\n",
    "\n",
    "df['Quantidade'] = [float(str(i).replace(\",\", \"\")) for i in df['Quantidade']]\n",
    "df['Quantidade'] = df['Quantidade'].astype('int')\n",
    "\n",
    "df.info()\n"
   ]
  },
  {
   "cell_type": "code",
   "execution_count": 57,
   "metadata": {},
   "outputs": [
    {
     "data": {
      "text/plain": [
       "Ano            5680\n",
       "Estado         5680\n",
       "Denominação    5680\n",
       "Quantidade     5680\n",
       "dtype: int64"
      ]
     },
     "execution_count": 57,
     "metadata": {},
     "output_type": "execute_result"
    }
   ],
   "source": [
    "# Contagem de linhas do dataframe\n",
    "\n",
    "df.count()"
   ]
  },
  {
   "cell_type": "markdown",
   "metadata": {},
   "source": [
    "## Amostra de dados do dataframe após tratamento das informações"
   ]
  },
  {
   "cell_type": "code",
   "execution_count": 58,
   "metadata": {},
   "outputs": [
    {
     "data": {
      "text/html": [
       "<div>\n",
       "<style scoped>\n",
       "    .dataframe tbody tr th:only-of-type {\n",
       "        vertical-align: middle;\n",
       "    }\n",
       "\n",
       "    .dataframe tbody tr th {\n",
       "        vertical-align: top;\n",
       "    }\n",
       "\n",
       "    .dataframe thead th {\n",
       "        text-align: right;\n",
       "    }\n",
       "</style>\n",
       "<table border=\"1\" class=\"dataframe\">\n",
       "  <thead>\n",
       "    <tr style=\"text-align: right;\">\n",
       "      <th></th>\n",
       "      <th>Ano</th>\n",
       "      <th>Estado</th>\n",
       "      <th>Denominação</th>\n",
       "      <th>Quantidade</th>\n",
       "    </tr>\n",
       "  </thead>\n",
       "  <tbody>\n",
       "    <tr>\n",
       "      <th>1599</th>\n",
       "      <td>2007</td>\n",
       "      <td>PERNAMBUCO</td>\n",
       "      <td>2.0</td>\n",
       "      <td>14000</td>\n",
       "    </tr>\n",
       "    <tr>\n",
       "      <th>1421</th>\n",
       "      <td>2006</td>\n",
       "      <td>RIO GRANDE DO NORTE</td>\n",
       "      <td>10.0</td>\n",
       "      <td>92800</td>\n",
       "    </tr>\n",
       "    <tr>\n",
       "      <th>341</th>\n",
       "      <td>2001</td>\n",
       "      <td>AMAPÁ</td>\n",
       "      <td>100.0</td>\n",
       "      <td>200</td>\n",
       "    </tr>\n",
       "    <tr>\n",
       "      <th>3472</th>\n",
       "      <td>2015</td>\n",
       "      <td>CEARÁ</td>\n",
       "      <td>10.0</td>\n",
       "      <td>5600</td>\n",
       "    </tr>\n",
       "    <tr>\n",
       "      <th>362</th>\n",
       "      <td>2001</td>\n",
       "      <td>DISTRITO FEDERAL</td>\n",
       "      <td>10.0</td>\n",
       "      <td>3300</td>\n",
       "    </tr>\n",
       "    <tr>\n",
       "      <th>3206</th>\n",
       "      <td>2014</td>\n",
       "      <td>MATO GROSSO</td>\n",
       "      <td>2.0</td>\n",
       "      <td>300</td>\n",
       "    </tr>\n",
       "    <tr>\n",
       "      <th>5166</th>\n",
       "      <td>2020</td>\n",
       "      <td>MINAS GERAIS</td>\n",
       "      <td>100.0</td>\n",
       "      <td>2</td>\n",
       "    </tr>\n",
       "    <tr>\n",
       "      <th>2759</th>\n",
       "      <td>2012</td>\n",
       "      <td>SÃO PAULO</td>\n",
       "      <td>2.0</td>\n",
       "      <td>21500</td>\n",
       "    </tr>\n",
       "    <tr>\n",
       "      <th>4629</th>\n",
       "      <td>2018</td>\n",
       "      <td>RORAIMA</td>\n",
       "      <td>2.0</td>\n",
       "      <td>100</td>\n",
       "    </tr>\n",
       "    <tr>\n",
       "      <th>4032</th>\n",
       "      <td>2016</td>\n",
       "      <td>TOCANTINS</td>\n",
       "      <td>2.0</td>\n",
       "      <td>100</td>\n",
       "    </tr>\n",
       "  </tbody>\n",
       "</table>\n",
       "</div>"
      ],
      "text/plain": [
       "       Ano               Estado  Denominação  Quantidade\n",
       "1599  2007           PERNAMBUCO          2.0       14000\n",
       "1421  2006  RIO GRANDE DO NORTE         10.0       92800\n",
       "341   2001                AMAPÁ        100.0         200\n",
       "3472  2015                CEARÁ         10.0        5600\n",
       "362   2001     DISTRITO FEDERAL         10.0        3300\n",
       "3206  2014          MATO GROSSO          2.0         300\n",
       "5166  2020         MINAS GERAIS        100.0           2\n",
       "2759  2012            SÃO PAULO          2.0       21500\n",
       "4629  2018              RORAIMA          2.0         100\n",
       "4032  2016            TOCANTINS          2.0         100"
      ]
     },
     "execution_count": 58,
     "metadata": {},
     "output_type": "execute_result"
    }
   ],
   "source": [
    "df.sample(10)"
   ]
  },
  {
   "cell_type": "markdown",
   "metadata": {},
   "source": [
    "## 1. Qual a quantidade/percentual de falsificações por cédula?"
   ]
  },
  {
   "cell_type": "code",
   "execution_count": null,
   "metadata": {},
   "outputs": [],
   "source": []
  },
  {
   "cell_type": "markdown",
   "metadata": {},
   "source": [
    "## 2. Qual a quantidade/percentual de falsificações por cédula?"
   ]
  },
  {
   "cell_type": "code",
   "execution_count": null,
   "metadata": {},
   "outputs": [],
   "source": []
  },
  {
   "cell_type": "markdown",
   "metadata": {},
   "source": [
    "## 3. Qual a quantidade/percentual de falsificações por ano?"
   ]
  },
  {
   "cell_type": "code",
   "execution_count": null,
   "metadata": {},
   "outputs": [],
   "source": []
  },
  {
   "cell_type": "markdown",
   "metadata": {},
   "source": [
    "## 4. Qual a quantidade/percentual de falsificações por ano?"
   ]
  },
  {
   "cell_type": "code",
   "execution_count": null,
   "metadata": {},
   "outputs": [],
   "source": []
  },
  {
   "cell_type": "markdown",
   "metadata": {},
   "source": [
    "## 5. Qual a quantidade/percentual de falsificações por cédula/ano?"
   ]
  },
  {
   "cell_type": "code",
   "execution_count": null,
   "metadata": {},
   "outputs": [],
   "source": []
  },
  {
   "cell_type": "markdown",
   "metadata": {},
   "source": [
    "## 6. Qual a quantidade/percentual de falsificações por cédula/ano?"
   ]
  },
  {
   "cell_type": "code",
   "execution_count": null,
   "metadata": {},
   "outputs": [],
   "source": []
  },
  {
   "cell_type": "markdown",
   "metadata": {},
   "source": [
    "## 7. Qual a estimativa de falsificações por cédula/ano (2021 e 2022)?"
   ]
  },
  {
   "cell_type": "code",
   "execution_count": null,
   "metadata": {},
   "outputs": [],
   "source": []
  },
  {
   "cell_type": "markdown",
   "metadata": {},
   "source": [
    "## 8. Qual a estimativa de falsificações por cédula/ano (2021 e 2022)?"
   ]
  },
  {
   "cell_type": "code",
   "execution_count": null,
   "metadata": {},
   "outputs": [],
   "source": []
  }
 ],
 "metadata": {
  "interpreter": {
   "hash": "ee5cc6fef2d70a7e71ee3826687cbd150f18158e0b1eef11d4f4f92bb920e304"
  },
  "kernelspec": {
   "display_name": "Python 3",
   "language": "python",
   "name": "python3"
  },
  "language_info": {
   "codemirror_mode": {
    "name": "ipython",
    "version": 3
   },
   "file_extension": ".py",
   "mimetype": "text/x-python",
   "name": "python",
   "nbconvert_exporter": "python",
   "pygments_lexer": "ipython3",
   "version": "3.9.0"
  }
 },
 "nbformat": 4,
 "nbformat_minor": 4
}
