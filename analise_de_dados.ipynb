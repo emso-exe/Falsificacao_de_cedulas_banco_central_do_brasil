{
 "cells": [
  {
   "cell_type": "markdown",
   "metadata": {},
   "source": [
    "# Análise de dados: Falsificação de cédulas de Real (R$)\n",
    "\n",
    "Neste projeto serão analisados os dados de falsificação de cédulas de Real (R$) com base nos dados informações (.csv) do período entre 1995 e 2020 acessíveis no portal de [Dados Abertos](https://dadosabertos.bcb.gov.br/) disponibilizados pelo [Banco Central do Brasil](https://www.bcb.gov.br/).\n",
    "\n",
    "## Demanda da análise\n",
    "\n",
    "- Demonstrar a evolução das falsificações\n",
    "- Identificar as cédulas mais falsificadas\n",
    "- Identificar os estados com mais incidência de falsificações\n",
    "- Estimar para os próximos anos a incidência de falsificações\n",
    "\n",
    "## Indagações a serem respondidas pela análise exploratória dos dados\n",
    "\n",
    "1. Qual o total de falsificações por ano (1995 a 2020)?\n",
    "2. Qual o total de falsificações por cédula e por ano (1995 a 2020)?\n",
    "3. Qual o total de falsificações por estado no período de 1995 a 2020?\n",
    "4. Quais os 5 estados líderes de falsificações por ano (2015 a 2020)?\n",
    "5. Qual a estimativa do total de falsificações por ano (2021 e 2022)?\n",
    "6. Qual a estimativa do total de falsificações por cédula e por ano (2021 e 2022)?\n",
    "7. Qual a estimativa do total de falsificações por estado no período de 2021 e 2022?"
   ]
  },
  {
   "cell_type": "markdown",
   "metadata": {},
   "source": [
    "## Importação de pacotes"
   ]
  },
  {
   "cell_type": "code",
   "execution_count": 42,
   "metadata": {},
   "outputs": [],
   "source": [
    "# Importação de pacotes e definição de parâmetros globais\n",
    "\n",
    "import pandas as pd\n",
    "import matplotlib.pyplot as plt\n",
    "import matplotlib.patches as mp\n",
    "import seaborn as sns\n",
    "\n",
    "sns.set_style('darkgrid')"
   ]
  },
  {
   "cell_type": "markdown",
   "metadata": {},
   "source": [
    "## Carregamento dos dados"
   ]
  },
  {
   "cell_type": "code",
   "execution_count": 43,
   "metadata": {},
   "outputs": [],
   "source": [
    "# Criando um dataframe atribuindo o arquivo csv no diretório dados e definindo o nome das colunas\n",
    "\n",
    "df = pd.read_csv('dados/Falsificacao_DadosAbertos.csv', sep=';', header=None)\n",
    "\n",
    "df.columns = ['Ano', 'Estado', 'Família', 'Denominação', 'Quantidade']\n"
   ]
  },
  {
   "cell_type": "markdown",
   "metadata": {},
   "source": [
    "## Detalhes do dataframe"
   ]
  },
  {
   "cell_type": "code",
   "execution_count": 44,
   "metadata": {},
   "outputs": [
    {
     "data": {
      "text/html": [
       "<div>\n",
       "<style scoped>\n",
       "    .dataframe tbody tr th:only-of-type {\n",
       "        vertical-align: middle;\n",
       "    }\n",
       "\n",
       "    .dataframe tbody tr th {\n",
       "        vertical-align: top;\n",
       "    }\n",
       "\n",
       "    .dataframe thead th {\n",
       "        text-align: right;\n",
       "    }\n",
       "</style>\n",
       "<table border=\"1\" class=\"dataframe\">\n",
       "  <thead>\n",
       "    <tr style=\"text-align: right;\">\n",
       "      <th></th>\n",
       "      <th>Ano</th>\n",
       "      <th>Estado</th>\n",
       "      <th>Família</th>\n",
       "      <th>Denominação</th>\n",
       "      <th>Quantidade</th>\n",
       "    </tr>\n",
       "  </thead>\n",
       "  <tbody>\n",
       "    <tr>\n",
       "      <th>4465</th>\n",
       "      <td>2018</td>\n",
       "      <td>GOIÁS</td>\n",
       "      <td>Cédulas - 2a. família</td>\n",
       "      <td>10.0</td>\n",
       "      <td>574,00</td>\n",
       "    </tr>\n",
       "    <tr>\n",
       "      <th>2769</th>\n",
       "      <td>2012</td>\n",
       "      <td>SÃO PAULO</td>\n",
       "      <td>Cédulas - 2a. família</td>\n",
       "      <td>100.0</td>\n",
       "      <td>54.139,00</td>\n",
       "    </tr>\n",
       "    <tr>\n",
       "      <th>4901</th>\n",
       "      <td>2019</td>\n",
       "      <td>PIAUÍ</td>\n",
       "      <td>Cédulas - 1a. família</td>\n",
       "      <td>100.0</td>\n",
       "      <td>21,00</td>\n",
       "    </tr>\n",
       "    <tr>\n",
       "      <th>2840</th>\n",
       "      <td>2013</td>\n",
       "      <td>BAHIA</td>\n",
       "      <td>Cédulas - 2a. família</td>\n",
       "      <td>20.0</td>\n",
       "      <td>1.360,00</td>\n",
       "    </tr>\n",
       "    <tr>\n",
       "      <th>1215</th>\n",
       "      <td>2005</td>\n",
       "      <td>RIO GRANDE DO NORTE</td>\n",
       "      <td>Cédulas - 1a. família</td>\n",
       "      <td>5.0</td>\n",
       "      <td>220,00</td>\n",
       "    </tr>\n",
       "    <tr>\n",
       "      <th>1439</th>\n",
       "      <td>2006</td>\n",
       "      <td>RONDÔNIA</td>\n",
       "      <td>Cédulas - 1a. família</td>\n",
       "      <td>50.0</td>\n",
       "      <td>1.867,00</td>\n",
       "    </tr>\n",
       "    <tr>\n",
       "      <th>3724</th>\n",
       "      <td>2015</td>\n",
       "      <td>TOCANTINS</td>\n",
       "      <td>Cédulas - 1a. família</td>\n",
       "      <td>50.0</td>\n",
       "      <td>110,00</td>\n",
       "    </tr>\n",
       "    <tr>\n",
       "      <th>1930</th>\n",
       "      <td>2009</td>\n",
       "      <td>DISTRITO FEDERAL</td>\n",
       "      <td>Cédulas - 1a. família</td>\n",
       "      <td>50.0</td>\n",
       "      <td>10.153,00</td>\n",
       "    </tr>\n",
       "    <tr>\n",
       "      <th>5361</th>\n",
       "      <td>2021</td>\n",
       "      <td>AMAPÁ</td>\n",
       "      <td>Cédulas - 2a. família</td>\n",
       "      <td>200.0</td>\n",
       "      <td>8,00</td>\n",
       "    </tr>\n",
       "    <tr>\n",
       "      <th>2789</th>\n",
       "      <td>2012</td>\n",
       "      <td>TOCANTINS</td>\n",
       "      <td>Cédulas - 2a. família</td>\n",
       "      <td>50.0</td>\n",
       "      <td>102,00</td>\n",
       "    </tr>\n",
       "  </tbody>\n",
       "</table>\n",
       "</div>"
      ],
      "text/plain": [
       "       Ano               Estado                Família  Denominação Quantidade\n",
       "4465  2018                GOIÁS  Cédulas - 2a. família         10.0     574,00\n",
       "2769  2012            SÃO PAULO  Cédulas - 2a. família        100.0  54.139,00\n",
       "4901  2019                PIAUÍ  Cédulas - 1a. família        100.0      21,00\n",
       "2840  2013                BAHIA  Cédulas - 2a. família         20.0   1.360,00\n",
       "1215  2005  RIO GRANDE DO NORTE  Cédulas - 1a. família          5.0     220,00\n",
       "1439  2006             RONDÔNIA  Cédulas - 1a. família         50.0   1.867,00\n",
       "3724  2015            TOCANTINS  Cédulas - 1a. família         50.0     110,00\n",
       "1930  2009     DISTRITO FEDERAL  Cédulas - 1a. família         50.0  10.153,00\n",
       "5361  2021                AMAPÁ  Cédulas - 2a. família        200.0       8,00\n",
       "2789  2012            TOCANTINS  Cédulas - 2a. família         50.0     102,00"
      ]
     },
     "execution_count": 44,
     "metadata": {},
     "output_type": "execute_result"
    }
   ],
   "source": [
    "# Amostra de dados do dataframe\n",
    "\n",
    "df.sample(10)"
   ]
  },
  {
   "cell_type": "code",
   "execution_count": 45,
   "metadata": {},
   "outputs": [
    {
     "data": {
      "text/plain": [
       "(5680, 5)"
      ]
     },
     "execution_count": 45,
     "metadata": {},
     "output_type": "execute_result"
    }
   ],
   "source": [
    "# Quantidade de linhas e colunas\n",
    "\n",
    "df.shape"
   ]
  },
  {
   "cell_type": "code",
   "execution_count": 46,
   "metadata": {},
   "outputs": [
    {
     "data": {
      "text/plain": [
       "(5680, 4)"
      ]
     },
     "execution_count": 46,
     "metadata": {},
     "output_type": "execute_result"
    }
   ],
   "source": [
    "# Removendo a coluna que não será utilizada na análise\n",
    "\n",
    "df = df.drop(columns=['Família'])\n",
    "df.shape"
   ]
  },
  {
   "cell_type": "code",
   "execution_count": 47,
   "metadata": {},
   "outputs": [
    {
     "name": "stdout",
     "output_type": "stream",
     "text": [
      "<class 'pandas.core.frame.DataFrame'>\n",
      "RangeIndex: 5680 entries, 0 to 5679\n",
      "Data columns (total 4 columns):\n",
      " #   Column       Non-Null Count  Dtype  \n",
      "---  ------       --------------  -----  \n",
      " 0   Ano          5680 non-null   int64  \n",
      " 1   Estado       5680 non-null   object \n",
      " 2   Denominação  5680 non-null   float64\n",
      " 3   Quantidade   5680 non-null   object \n",
      "dtypes: float64(1), int64(1), object(2)\n",
      "memory usage: 177.6+ KB\n"
     ]
    }
   ],
   "source": [
    "# Informações das colunas como nome, contagem de linhas nulas e tipo de dados\n",
    "\n",
    "df.info()"
   ]
  },
  {
   "cell_type": "markdown",
   "metadata": {},
   "source": [
    "## Tratando valores nulos"
   ]
  },
  {
   "cell_type": "code",
   "execution_count": 48,
   "metadata": {},
   "outputs": [
    {
     "data": {
      "text/plain": [
       "Ano            0\n",
       "Estado         0\n",
       "Denominação    0\n",
       "Quantidade     0\n",
       "dtype: int64"
      ]
     },
     "execution_count": 48,
     "metadata": {},
     "output_type": "execute_result"
    }
   ],
   "source": [
    "# Identificando a quantidade de valores nulos, no caso não há dados nulos\n",
    "\n",
    "df.isnull().sum()"
   ]
  },
  {
   "cell_type": "markdown",
   "metadata": {},
   "source": [
    "## Tratando os tipos de valores"
   ]
  },
  {
   "cell_type": "code",
   "execution_count": 49,
   "metadata": {},
   "outputs": [
    {
     "data": {
      "text/plain": [
       "Ano              int64\n",
       "Estado          object\n",
       "Denominação    float64\n",
       "Quantidade      object\n",
       "dtype: object"
      ]
     },
     "execution_count": 49,
     "metadata": {},
     "output_type": "execute_result"
    }
   ],
   "source": [
    "# Identificando os tipos de dados das colunas\n",
    "\n",
    "df.dtypes"
   ]
  },
  {
   "cell_type": "code",
   "execution_count": 50,
   "metadata": {},
   "outputs": [
    {
     "name": "stdout",
     "output_type": "stream",
     "text": [
      "<class 'pandas.core.frame.DataFrame'>\n",
      "RangeIndex: 5680 entries, 0 to 5679\n",
      "Data columns (total 4 columns):\n",
      " #   Column       Non-Null Count  Dtype  \n",
      "---  ------       --------------  -----  \n",
      " 0   Ano          5680 non-null   int32  \n",
      " 1   Estado       5680 non-null   object \n",
      " 2   Denominação  5680 non-null   float64\n",
      " 3   Quantidade   5680 non-null   int32  \n",
      "dtypes: float64(1), int32(2), object(1)\n",
      "memory usage: 133.2+ KB\n"
     ]
    }
   ],
   "source": [
    "# Efetuando as conversões necessárias dos tipos de dados e exibindo novamente as informações das colunas\n",
    "\n",
    "df['Ano'] = df['Ano'].astype('int')\n",
    "\n",
    "df['Quantidade'] = [(str(i).replace('.', '')) for i in df['Quantidade']]\n",
    "df['Quantidade'] = [(str(i).replace(',', '.')) for i in df['Quantidade']]\n",
    "df['Quantidade'] = [float(str(i)) for i in df['Quantidade']]\n",
    "df['Quantidade'] = df['Quantidade'].astype('int')\n",
    "\n",
    "df.info()\n"
   ]
  },
  {
   "cell_type": "code",
   "execution_count": 51,
   "metadata": {},
   "outputs": [
    {
     "data": {
      "text/plain": [
       "Ano            5680\n",
       "Estado         5680\n",
       "Denominação    5680\n",
       "Quantidade     5680\n",
       "dtype: int64"
      ]
     },
     "execution_count": 51,
     "metadata": {},
     "output_type": "execute_result"
    }
   ],
   "source": [
    "# Contagem de linhas do dataframe\n",
    "\n",
    "df.count()"
   ]
  },
  {
   "cell_type": "markdown",
   "metadata": {},
   "source": [
    "## Selecionando o período entre 1995 e 2020"
   ]
  },
  {
   "cell_type": "code",
   "execution_count": 52,
   "metadata": {},
   "outputs": [
    {
     "name": "stdout",
     "output_type": "stream",
     "text": [
      "------------------------------ Dataframe: df_full ------------------------------\n",
      "\n",
      "\n",
      "[1995 1996 1997 1998 1999 2000 2001 2002 2003 2004 2005 2006 2007 2008\n",
      " 2009 2010 2011 2012 2013 2014 2015 2016 2017 2018 2019 2020 2021 2022]\n",
      "\n",
      "\n",
      "--------------------------------- Dataframe: df ---------------------------------\n",
      "\n",
      "\n",
      "[1995 1996 1997 1998 1999 2000 2001 2002 2003 2004 2005 2006 2007 2008\n",
      " 2009 2010 2011 2012 2013 2014 2015 2016 2017 2018 2019 2020]\n",
      "\n",
      "\n"
     ]
    }
   ],
   "source": [
    "# Criando um dataframe com todos os períodos\n",
    "\n",
    "df_full = df\n",
    "\n",
    "print('-'*30, 'Dataframe: df_full', '-'*30)\n",
    "print('\\n')\n",
    "print(df['Ano'].unique())\n",
    "print('\\n')\n",
    "\n",
    "# Criando um dataframe com o período entre 1995 e 2020\n",
    "\n",
    "print('-'*33, 'Dataframe: df', '-'*33)\n",
    "\n",
    "df_remover = df.loc[\n",
    "    (df['Ano'] == 2021) |\n",
    "    (df['Ano'] == 2022)\n",
    "]\n",
    "\n",
    "df = df.drop(df_remover.index)\n",
    "\n",
    "print('\\n')\n",
    "print(df['Ano'].unique())\n",
    "print('\\n')\n"
   ]
  },
  {
   "cell_type": "markdown",
   "metadata": {},
   "source": [
    "## Amostra de dados do dataframe após tratamento das informações"
   ]
  },
  {
   "cell_type": "code",
   "execution_count": 53,
   "metadata": {},
   "outputs": [
    {
     "data": {
      "text/html": [
       "<div>\n",
       "<style scoped>\n",
       "    .dataframe tbody tr th:only-of-type {\n",
       "        vertical-align: middle;\n",
       "    }\n",
       "\n",
       "    .dataframe tbody tr th {\n",
       "        vertical-align: top;\n",
       "    }\n",
       "\n",
       "    .dataframe thead th {\n",
       "        text-align: right;\n",
       "    }\n",
       "</style>\n",
       "<table border=\"1\" class=\"dataframe\">\n",
       "  <thead>\n",
       "    <tr style=\"text-align: right;\">\n",
       "      <th></th>\n",
       "      <th>Ano</th>\n",
       "      <th>Estado</th>\n",
       "      <th>Denominação</th>\n",
       "      <th>Quantidade</th>\n",
       "    </tr>\n",
       "  </thead>\n",
       "  <tbody>\n",
       "    <tr>\n",
       "      <th>2043</th>\n",
       "      <td>2009</td>\n",
       "      <td>RONDÔNIA</td>\n",
       "      <td>5.0</td>\n",
       "      <td>37</td>\n",
       "    </tr>\n",
       "    <tr>\n",
       "      <th>306</th>\n",
       "      <td>2000</td>\n",
       "      <td>RORAIMA</td>\n",
       "      <td>50.0</td>\n",
       "      <td>105</td>\n",
       "    </tr>\n",
       "    <tr>\n",
       "      <th>831</th>\n",
       "      <td>2003</td>\n",
       "      <td>RORAIMA</td>\n",
       "      <td>50.0</td>\n",
       "      <td>147</td>\n",
       "    </tr>\n",
       "    <tr>\n",
       "      <th>1656</th>\n",
       "      <td>2007</td>\n",
       "      <td>SANTA CATARINA</td>\n",
       "      <td>50.0</td>\n",
       "      <td>8830</td>\n",
       "    </tr>\n",
       "    <tr>\n",
       "      <th>2891</th>\n",
       "      <td>2013</td>\n",
       "      <td>MARANHÃO</td>\n",
       "      <td>2.0</td>\n",
       "      <td>3</td>\n",
       "    </tr>\n",
       "    <tr>\n",
       "      <th>1382</th>\n",
       "      <td>2006</td>\n",
       "      <td>PARAÍBA</td>\n",
       "      <td>10.0</td>\n",
       "      <td>729</td>\n",
       "    </tr>\n",
       "    <tr>\n",
       "      <th>1608</th>\n",
       "      <td>2007</td>\n",
       "      <td>PIAUÍ</td>\n",
       "      <td>10.0</td>\n",
       "      <td>105</td>\n",
       "    </tr>\n",
       "    <tr>\n",
       "      <th>521</th>\n",
       "      <td>2002</td>\n",
       "      <td>DISTRITO FEDERAL</td>\n",
       "      <td>50.0</td>\n",
       "      <td>4533</td>\n",
       "    </tr>\n",
       "    <tr>\n",
       "      <th>579</th>\n",
       "      <td>2002</td>\n",
       "      <td>PARAÍBA</td>\n",
       "      <td>10.0</td>\n",
       "      <td>718</td>\n",
       "    </tr>\n",
       "    <tr>\n",
       "      <th>2190</th>\n",
       "      <td>2010</td>\n",
       "      <td>PARAÍBA</td>\n",
       "      <td>100.0</td>\n",
       "      <td>363</td>\n",
       "    </tr>\n",
       "  </tbody>\n",
       "</table>\n",
       "</div>"
      ],
      "text/plain": [
       "       Ano            Estado  Denominação  Quantidade\n",
       "2043  2009          RONDÔNIA          5.0          37\n",
       "306   2000           RORAIMA         50.0         105\n",
       "831   2003           RORAIMA         50.0         147\n",
       "1656  2007    SANTA CATARINA         50.0        8830\n",
       "2891  2013          MARANHÃO          2.0           3\n",
       "1382  2006           PARAÍBA         10.0         729\n",
       "1608  2007             PIAUÍ         10.0         105\n",
       "521   2002  DISTRITO FEDERAL         50.0        4533\n",
       "579   2002           PARAÍBA         10.0         718\n",
       "2190  2010           PARAÍBA        100.0         363"
      ]
     },
     "execution_count": 53,
     "metadata": {},
     "output_type": "execute_result"
    }
   ],
   "source": [
    "df.sample(10)"
   ]
  },
  {
   "cell_type": "markdown",
   "metadata": {},
   "source": [
    "## 1. Qual o total de falsificações por ano (1995 a 2020)?"
   ]
  },
  {
   "cell_type": "code",
   "execution_count": 74,
   "metadata": {},
   "outputs": [
    {
     "name": "stdout",
     "output_type": "stream",
     "text": [
      "      Quantidade         %\n",
      "Ano                       \n",
      "1995         242  0.002322\n",
      "1996       16421  0.157579\n",
      "1997         624  0.005988\n",
      "1998        6874  0.065964\n",
      "1999       29162  0.279844\n",
      "2000      329111  3.158206\n",
      "2001      381709  3.662946\n",
      "2002      413883  3.971693\n",
      "2003      548887  5.267215\n",
      "2004      499255  4.790937\n",
      "2005      448158  4.300602\n",
      "2006      638036  6.122704\n",
      "2007      678949  6.515312\n",
      "2008      538201  5.164670\n",
      "2009      503228  4.829063\n",
      "2010      434657  4.171044\n",
      "2011      434084  4.165545\n",
      "2012      519987  4.989885\n",
      "2013      551157  5.288998\n",
      "2014      529578  5.081922\n",
      "2015      477689  4.583986\n",
      "2016      506633  4.861738\n",
      "2017      548542  5.263904\n",
      "2018      561808  5.391207\n",
      "2019      498961  4.788116\n",
      "2020      324985  3.118612\n"
     ]
    },
    {
     "data": {
      "image/png": "[encoded data removed]",
      "text/plain": [
       "<Figure size 1440x720 with 1 Axes>"
      ]
     },
     "metadata": {},
     "output_type": "display_data"
    }
   ],
   "source": [
    "df_temp = df.groupby(['Ano'])['Quantidade'].sum()\n",
    "df_ano_quantidade = pd.DataFrame(df_temp)\n",
    "df_ano_quantidade['%'] = df_ano_quantidade['Quantidade'] / df_ano_quantidade['Quantidade'].sum() * 100\n",
    "\n",
    "print(df_ano_quantidade)\n",
    "\n",
    "plt.figure(figsize=(20, 10))\n",
    "plot = sns.barplot(x=df_ano_quantidade.index,\n",
    "                   y=df_ano_quantidade['Quantidade'],\n",
    "                   orient='v',\n",
    "                   palette=['darkseagreen'])\n",
    "for i in plot.patches:\n",
    "    plot.annotate(format(i.get_height(), '.0f'),\n",
    "        (i.get_x() + i.get_width() / 2, i.get_height()),\n",
    "        ha='center',\n",
    "        va='baseline',\n",
    "        fontsize=10,\n",
    "        color='black',\n",
    "        xytext=(0, 5),\n",
    "        textcoords='offset points')\n",
    "plt.xlabel('')\n",
    "plt.ylabel('')\n",
    "plt.title('\\nFalsificações por ano (1995 a 2020)\\n', fontsize=20)\n",
    "plt.show(plot)\n"
   ]
  },
  {
   "cell_type": "markdown",
   "metadata": {},
   "source": [
    "## 2. Qual o total de falsificações por cédula e por ano (1995 a 2020)?"
   ]
  },
  {
   "cell_type": "code",
   "execution_count": 76,
   "metadata": {},
   "outputs": [
    {
     "name": "stdout",
     "output_type": "stream",
     "text": [
      "                  Quantidade         %\n",
      "Ano  Denominação                      \n",
      "1995 50.0                240  0.002303\n",
      "     100.0                 2  0.000019\n",
      "1996 5.0                   2  0.000019\n",
      "     10.0               6088  0.058422\n",
      "     50.0               8001  0.076779\n",
      "...                      ...       ...\n",
      "2020 10.0              17673  0.169593\n",
      "     20.0              61144  0.586748\n",
      "     50.0              81277  0.779948\n",
      "     100.0            154181  1.479548\n",
      "     200.0              4585  0.043998\n",
      "\n",
      "[163 rows x 2 columns]\n"
     ]
    }
   ],
   "source": [
    "df_temp = df.groupby(['Ano','Denominação'])['Quantidade'].sum()\n",
    "df_ano_denominacao_quantidade = pd.DataFrame(df_temp)\n",
    "#df_ano_denominacao_quantidade['%'] = df_ano_denominacao_quantidade['Quantidade'] / df_ano_denominacao_quantidade['Quantidade'].sum() * 100\n",
    "\n",
    "print(df_ano_denominacao_quantidade)\n",
    "\n",
    "#df_ano_denominacao_quantidade.head(10)\n",
    "\n",
    "\n"
   ]
  },
  {
   "cell_type": "markdown",
   "metadata": {},
   "source": [
    "## 3. Qual o total de falsificações por estado no período de 1995 a 2020?"
   ]
  },
  {
   "cell_type": "code",
   "execution_count": null,
   "metadata": {},
   "outputs": [],
   "source": []
  },
  {
   "cell_type": "markdown",
   "metadata": {},
   "source": [
    "## 4. Quais os 5 estados líderes de falsificações por ano (2015 a 2020)?"
   ]
  },
  {
   "cell_type": "code",
   "execution_count": null,
   "metadata": {},
   "outputs": [],
   "source": []
  },
  {
   "cell_type": "markdown",
   "metadata": {},
   "source": [
    "## 5. Qual a estimativa do total de falsificações por ano (2021 e 2022)?"
   ]
  },
  {
   "cell_type": "code",
   "execution_count": null,
   "metadata": {},
   "outputs": [],
   "source": []
  },
  {
   "cell_type": "markdown",
   "metadata": {},
   "source": [
    "## 6. Qual a estimativa do total de falsificações por cédula e por ano (2021 e 2022)?"
   ]
  },
  {
   "cell_type": "code",
   "execution_count": null,
   "metadata": {},
   "outputs": [],
   "source": []
  },
  {
   "cell_type": "markdown",
   "metadata": {},
   "source": [
    "## 7. Qual a estimativa do total de falsificações por estado no período de 2021 e 2022?"
   ]
  },
  {
   "cell_type": "code",
   "execution_count": null,
   "metadata": {},
   "outputs": [],
   "source": []
  }
 ],
 "metadata": {
  "interpreter": {
   "hash": "ee5cc6fef2d70a7e71ee3826687cbd150f18158e0b1eef11d4f4f92bb920e304"
  },
  "kernelspec": {
   "display_name": "Python 3",
   "language": "python",
   "name": "python3"
  },
  "language_info": {
   "codemirror_mode": {
    "name": "ipython",
    "version": 3
   },
   "file_extension": ".py",
   "mimetype": "text/x-python",
   "name": "python",
   "nbconvert_exporter": "python",
   "pygments_lexer": "ipython3",
   "version": "3.9.0"
  }
 },
 "nbformat": 4,
 "nbformat_minor": 4
}
