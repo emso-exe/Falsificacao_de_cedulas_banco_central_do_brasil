{
 "cells": [
  {
   "cell_type": "markdown",
   "metadata": {},
   "source": [
    "# Análise de dados: Falsificação de cédulas de Real (R$)\n",
    "\n",
    "Neste projeto serão analisados os dados de falsificação de cédulas de Real (R$) com base nos dados informações (.csv) do período entre 1995 e 2020 acessíveis no portal de [Dados Abertos](https://dadosabertos.bcb.gov.br/) disponibilizados pelo [Banco Central do Brasil](https://www.bcb.gov.br/).\n",
    "\n",
    "## Demanda da análise\n",
    "\n",
    "- Demonstrar a evolução das falsificações\n",
    "- Identificar as cédulas mais falsificadas\n",
    "- Identificar os estados com mais incidência de falsificações\n",
    "- Estimar para os próximos anos a incidência de falsificações\n",
    "\n",
    "## Indagações a serem respondidas pela análise exploratória dos dados\n",
    "\n",
    "1. Qual o total de falsificações por ano (1995 a 2020)?\n",
    "2. Qual o total de falsificações por cédula e por ano (1995 a 2020)?\n",
    "3. Qual o total de falsificações por estado no período de 1995 a 2020?\n",
    "4. Quais os 5 estados líderes de falsificações por ano (2015 a 2020)?\n",
    "5. Qual a estimativa do total de falsificações por ano (2021 e 2022)?\n",
    "6. Qual a estimativa do total de falsificações por cédula e por ano (2021 e 2022)?\n",
    "7. Qual a estimativa do total de falsificações por estado no período de 2021 e 2022?"
   ]
  },
  {
   "cell_type": "markdown",
   "metadata": {},
   "source": [
    "## Importação de pacotes"
   ]
  },
  {
   "cell_type": "code",
   "execution_count": 1,
   "metadata": {},
   "outputs": [],
   "source": [
    "# Importação de pacotes e definição de parâmetros globais\n",
    "\n",
    "import pandas as pd\n",
    "import matplotlib.pyplot as plt\n",
    "import matplotlib.patches as mp\n",
    "import seaborn as sns\n",
    "\n",
    "sns.set_style('darkgrid')"
   ]
  },
  {
   "cell_type": "markdown",
   "metadata": {},
   "source": [
    "## Carregamento dos dados"
   ]
  },
  {
   "cell_type": "code",
   "execution_count": 2,
   "metadata": {},
   "outputs": [],
   "source": [
    "# Criando um dataframe atribuindo o arquivo csv no diretório dados e definindo o nome das colunas\n",
    "\n",
    "df = pd.read_csv('dados/Falsificacao_DadosAbertos.csv', sep=';', header=None)\n",
    "\n",
    "df.columns = ['Ano', 'Estado', 'Família', 'Denominação', 'Quantidade']\n"
   ]
  },
  {
   "cell_type": "markdown",
   "metadata": {},
   "source": [
    "## Detalhes do dataframe"
   ]
  },
  {
   "cell_type": "code",
   "execution_count": 3,
   "metadata": {},
   "outputs": [
    {
     "data": {
      "text/html": [
       "<div>\n",
       "<style scoped>\n",
       "    .dataframe tbody tr th:only-of-type {\n",
       "        vertical-align: middle;\n",
       "    }\n",
       "\n",
       "    .dataframe tbody tr th {\n",
       "        vertical-align: top;\n",
       "    }\n",
       "\n",
       "    .dataframe thead th {\n",
       "        text-align: right;\n",
       "    }\n",
       "</style>\n",
       "<table border=\"1\" class=\"dataframe\">\n",
       "  <thead>\n",
       "    <tr style=\"text-align: right;\">\n",
       "      <th></th>\n",
       "      <th>Ano</th>\n",
       "      <th>Estado</th>\n",
       "      <th>Família</th>\n",
       "      <th>Denominação</th>\n",
       "      <th>Quantidade</th>\n",
       "    </tr>\n",
       "  </thead>\n",
       "  <tbody>\n",
       "    <tr>\n",
       "      <th>525</th>\n",
       "      <td>2002</td>\n",
       "      <td>ESPÍRITO SANTO</td>\n",
       "      <td>Cédulas - 1a. família</td>\n",
       "      <td>10.0</td>\n",
       "      <td>1.691,00</td>\n",
       "    </tr>\n",
       "    <tr>\n",
       "      <th>1826</th>\n",
       "      <td>2008</td>\n",
       "      <td>RIO GRANDE DO NORTE</td>\n",
       "      <td>Cédulas - 1a. família</td>\n",
       "      <td>2.0</td>\n",
       "      <td>15,00</td>\n",
       "    </tr>\n",
       "    <tr>\n",
       "      <th>2420</th>\n",
       "      <td>2011</td>\n",
       "      <td>PERNAMBUCO</td>\n",
       "      <td>Cédulas - 1a. família</td>\n",
       "      <td>20.0</td>\n",
       "      <td>2.604,00</td>\n",
       "    </tr>\n",
       "    <tr>\n",
       "      <th>4369</th>\n",
       "      <td>2018</td>\n",
       "      <td>ACRE</td>\n",
       "      <td>Cédulas - 2a. família</td>\n",
       "      <td>10.0</td>\n",
       "      <td>8,00</td>\n",
       "    </tr>\n",
       "    <tr>\n",
       "      <th>4216</th>\n",
       "      <td>2017</td>\n",
       "      <td>PARAÍBA</td>\n",
       "      <td>Cédulas - 2a. família</td>\n",
       "      <td>20.0</td>\n",
       "      <td>434,00</td>\n",
       "    </tr>\n",
       "    <tr>\n",
       "      <th>1614</th>\n",
       "      <td>2007</td>\n",
       "      <td>RIO DE JANEIRO</td>\n",
       "      <td>Cédulas - 1a. família</td>\n",
       "      <td>2.0</td>\n",
       "      <td>105,00</td>\n",
       "    </tr>\n",
       "    <tr>\n",
       "      <th>4458</th>\n",
       "      <td>2018</td>\n",
       "      <td>ESPÍRITO SANTO</td>\n",
       "      <td>Cédulas - 2a. família</td>\n",
       "      <td>100.0</td>\n",
       "      <td>4.380,00</td>\n",
       "    </tr>\n",
       "    <tr>\n",
       "      <th>2311</th>\n",
       "      <td>2011</td>\n",
       "      <td>BAHIA</td>\n",
       "      <td>Cédulas - 1a. família</td>\n",
       "      <td>10.0</td>\n",
       "      <td>1.742,00</td>\n",
       "    </tr>\n",
       "    <tr>\n",
       "      <th>722</th>\n",
       "      <td>2003</td>\n",
       "      <td>ESPÍRITO SANTO</td>\n",
       "      <td>Cédulas - 1a. família</td>\n",
       "      <td>100.0</td>\n",
       "      <td>5,00</td>\n",
       "    </tr>\n",
       "    <tr>\n",
       "      <th>405</th>\n",
       "      <td>2001</td>\n",
       "      <td>PARÁ</td>\n",
       "      <td>Cédulas - 1a. família</td>\n",
       "      <td>50.0</td>\n",
       "      <td>1.487,00</td>\n",
       "    </tr>\n",
       "  </tbody>\n",
       "</table>\n",
       "</div>"
      ],
      "text/plain": [
       "       Ano               Estado                Família  Denominação Quantidade\n",
       "525   2002       ESPÍRITO SANTO  Cédulas - 1a. família         10.0   1.691,00\n",
       "1826  2008  RIO GRANDE DO NORTE  Cédulas - 1a. família          2.0      15,00\n",
       "2420  2011           PERNAMBUCO  Cédulas - 1a. família         20.0   2.604,00\n",
       "4369  2018                 ACRE  Cédulas - 2a. família         10.0       8,00\n",
       "4216  2017              PARAÍBA  Cédulas - 2a. família         20.0     434,00\n",
       "1614  2007       RIO DE JANEIRO  Cédulas - 1a. família          2.0     105,00\n",
       "4458  2018       ESPÍRITO SANTO  Cédulas - 2a. família        100.0   4.380,00\n",
       "2311  2011                BAHIA  Cédulas - 1a. família         10.0   1.742,00\n",
       "722   2003       ESPÍRITO SANTO  Cédulas - 1a. família        100.0       5,00\n",
       "405   2001                 PARÁ  Cédulas - 1a. família         50.0   1.487,00"
      ]
     },
     "execution_count": 3,
     "metadata": {},
     "output_type": "execute_result"
    }
   ],
   "source": [
    "# Amostra de dados do dataframe\n",
    "\n",
    "df.sample(10)"
   ]
  },
  {
   "cell_type": "code",
   "execution_count": 4,
   "metadata": {},
   "outputs": [
    {
     "data": {
      "text/plain": [
       "(5680, 5)"
      ]
     },
     "execution_count": 4,
     "metadata": {},
     "output_type": "execute_result"
    }
   ],
   "source": [
    "# Quantidade de linhas e colunas\n",
    "\n",
    "df.shape"
   ]
  },
  {
   "cell_type": "code",
   "execution_count": 5,
   "metadata": {},
   "outputs": [
    {
     "data": {
      "text/plain": [
       "(5680, 4)"
      ]
     },
     "execution_count": 5,
     "metadata": {},
     "output_type": "execute_result"
    }
   ],
   "source": [
    "# Removendo a coluna que não será utilizada na análise\n",
    "\n",
    "df = df.drop(columns=['Família'])\n",
    "df.shape"
   ]
  },
  {
   "cell_type": "code",
   "execution_count": 6,
   "metadata": {},
   "outputs": [
    {
     "name": "stdout",
     "output_type": "stream",
     "text": [
      "<class 'pandas.core.frame.DataFrame'>\n",
      "RangeIndex: 5680 entries, 0 to 5679\n",
      "Data columns (total 4 columns):\n",
      " #   Column       Non-Null Count  Dtype  \n",
      "---  ------       --------------  -----  \n",
      " 0   Ano          5680 non-null   int64  \n",
      " 1   Estado       5680 non-null   object \n",
      " 2   Denominação  5680 non-null   float64\n",
      " 3   Quantidade   5680 non-null   object \n",
      "dtypes: float64(1), int64(1), object(2)\n",
      "memory usage: 177.6+ KB\n"
     ]
    }
   ],
   "source": [
    "# Informações das colunas como nome, contagem de linhas nulas e tipo de dados\n",
    "\n",
    "df.info()"
   ]
  },
  {
   "cell_type": "markdown",
   "metadata": {},
   "source": [
    "## Tratando valores nulos"
   ]
  },
  {
   "cell_type": "code",
   "execution_count": 7,
   "metadata": {},
   "outputs": [
    {
     "data": {
      "text/plain": [
       "Ano            0\n",
       "Estado         0\n",
       "Denominação    0\n",
       "Quantidade     0\n",
       "dtype: int64"
      ]
     },
     "execution_count": 7,
     "metadata": {},
     "output_type": "execute_result"
    }
   ],
   "source": [
    "# Identificando a quantidade de valores nulos, no caso não há dados nulos\n",
    "\n",
    "df.isnull().sum()"
   ]
  },
  {
   "cell_type": "markdown",
   "metadata": {},
   "source": [
    "## Tratando os tipos de valores"
   ]
  },
  {
   "cell_type": "code",
   "execution_count": 8,
   "metadata": {},
   "outputs": [
    {
     "data": {
      "text/plain": [
       "Ano              int64\n",
       "Estado          object\n",
       "Denominação    float64\n",
       "Quantidade      object\n",
       "dtype: object"
      ]
     },
     "execution_count": 8,
     "metadata": {},
     "output_type": "execute_result"
    }
   ],
   "source": [
    "# Identificando os tipos de dados das colunas\n",
    "\n",
    "df.dtypes"
   ]
  },
  {
   "cell_type": "code",
   "execution_count": 9,
   "metadata": {},
   "outputs": [
    {
     "name": "stdout",
     "output_type": "stream",
     "text": [
      "<class 'pandas.core.frame.DataFrame'>\n",
      "RangeIndex: 5680 entries, 0 to 5679\n",
      "Data columns (total 4 columns):\n",
      " #   Column       Non-Null Count  Dtype  \n",
      "---  ------       --------------  -----  \n",
      " 0   Ano          5680 non-null   int32  \n",
      " 1   Estado       5680 non-null   object \n",
      " 2   Denominação  5680 non-null   float64\n",
      " 3   Quantidade   5680 non-null   int32  \n",
      "dtypes: float64(1), int32(2), object(1)\n",
      "memory usage: 133.2+ KB\n"
     ]
    }
   ],
   "source": [
    "# Efetuando as conversões necessárias dos tipos de dados e exibindo novamente as informações das colunas\n",
    "\n",
    "df['Ano'] = df['Ano'].astype('int')\n",
    "\n",
    "df['Quantidade'] = [(str(i).replace('.', '')) for i in df['Quantidade']]\n",
    "df['Quantidade'] = [(str(i).replace(',', '.')) for i in df['Quantidade']]\n",
    "df['Quantidade'] = [float(str(i)) for i in df['Quantidade']]\n",
    "df['Quantidade'] = df['Quantidade'].astype('int')\n",
    "\n",
    "df.info()\n"
   ]
  },
  {
   "cell_type": "code",
   "execution_count": 10,
   "metadata": {},
   "outputs": [
    {
     "data": {
      "text/plain": [
       "Ano            5680\n",
       "Estado         5680\n",
       "Denominação    5680\n",
       "Quantidade     5680\n",
       "dtype: int64"
      ]
     },
     "execution_count": 10,
     "metadata": {},
     "output_type": "execute_result"
    }
   ],
   "source": [
    "# Contagem de linhas do dataframe\n",
    "\n",
    "df.count()"
   ]
  },
  {
   "cell_type": "markdown",
   "metadata": {},
   "source": [
    "## Selecionando o período entre 1995 e 2020"
   ]
  },
  {
   "cell_type": "code",
   "execution_count": 11,
   "metadata": {},
   "outputs": [
    {
     "name": "stdout",
     "output_type": "stream",
     "text": [
      "------------------------------ Dataframe: df_full ------------------------------\n",
      "\n",
      "\n",
      "[1995 1996 1997 1998 1999 2000 2001 2002 2003 2004 2005 2006 2007 2008\n",
      " 2009 2010 2011 2012 2013 2014 2015 2016 2017 2018 2019 2020 2021 2022]\n",
      "\n",
      "\n",
      "--------------------------------- Dataframe: df ---------------------------------\n",
      "\n",
      "\n",
      "[1995 1996 1997 1998 1999 2000 2001 2002 2003 2004 2005 2006 2007 2008\n",
      " 2009 2010 2011 2012 2013 2014 2015 2016 2017 2018 2019 2020]\n",
      "\n",
      "\n"
     ]
    }
   ],
   "source": [
    "# Criando um dataframe com todos os períodos\n",
    "\n",
    "df_full = df\n",
    "\n",
    "print('-'*30, 'Dataframe: df_full', '-'*30)\n",
    "print('\\n')\n",
    "print(df['Ano'].unique())\n",
    "print('\\n')\n",
    "\n",
    "# Criando um dataframe com o período entre 1995 e 2020\n",
    "\n",
    "print('-'*33, 'Dataframe: df', '-'*33)\n",
    "\n",
    "df_remover = df.loc[\n",
    "    (df['Ano'] == 2021) |\n",
    "    (df['Ano'] == 2022)\n",
    "]\n",
    "\n",
    "df = df.drop(df_remover.index)\n",
    "\n",
    "print('\\n')\n",
    "print(df['Ano'].unique())\n",
    "print('\\n')\n"
   ]
  },
  {
   "cell_type": "markdown",
   "metadata": {},
   "source": [
    "## Amostra de dados do dataframe após tratamento das informações"
   ]
  },
  {
   "cell_type": "code",
   "execution_count": 12,
   "metadata": {},
   "outputs": [
    {
     "data": {
      "text/html": [
       "<div>\n",
       "<style scoped>\n",
       "    .dataframe tbody tr th:only-of-type {\n",
       "        vertical-align: middle;\n",
       "    }\n",
       "\n",
       "    .dataframe tbody tr th {\n",
       "        vertical-align: top;\n",
       "    }\n",
       "\n",
       "    .dataframe thead th {\n",
       "        text-align: right;\n",
       "    }\n",
       "</style>\n",
       "<table border=\"1\" class=\"dataframe\">\n",
       "  <thead>\n",
       "    <tr style=\"text-align: right;\">\n",
       "      <th></th>\n",
       "      <th>Ano</th>\n",
       "      <th>Estado</th>\n",
       "      <th>Denominação</th>\n",
       "      <th>Quantidade</th>\n",
       "    </tr>\n",
       "  </thead>\n",
       "  <tbody>\n",
       "    <tr>\n",
       "      <th>4337</th>\n",
       "      <td>2017</td>\n",
       "      <td>SÃO PAULO</td>\n",
       "      <td>50.0</td>\n",
       "      <td>27735</td>\n",
       "    </tr>\n",
       "    <tr>\n",
       "      <th>2262</th>\n",
       "      <td>2010</td>\n",
       "      <td>SERGIPE</td>\n",
       "      <td>2.0</td>\n",
       "      <td>23</td>\n",
       "    </tr>\n",
       "    <tr>\n",
       "      <th>631</th>\n",
       "      <td>2002</td>\n",
       "      <td>RONDÔNIA</td>\n",
       "      <td>20.0</td>\n",
       "      <td>2</td>\n",
       "    </tr>\n",
       "    <tr>\n",
       "      <th>3497</th>\n",
       "      <td>2015</td>\n",
       "      <td>ESPÍRITO SANTO</td>\n",
       "      <td>20.0</td>\n",
       "      <td>189</td>\n",
       "    </tr>\n",
       "    <tr>\n",
       "      <th>4472</th>\n",
       "      <td>2018</td>\n",
       "      <td>MARANHÃO</td>\n",
       "      <td>2.0</td>\n",
       "      <td>2</td>\n",
       "    </tr>\n",
       "    <tr>\n",
       "      <th>5103</th>\n",
       "      <td>2020</td>\n",
       "      <td>ESPÍRITO SANTO</td>\n",
       "      <td>100.0</td>\n",
       "      <td>1654</td>\n",
       "    </tr>\n",
       "    <tr>\n",
       "      <th>9</th>\n",
       "      <td>1996</td>\n",
       "      <td>PARANÁ</td>\n",
       "      <td>100.0</td>\n",
       "      <td>12</td>\n",
       "    </tr>\n",
       "    <tr>\n",
       "      <th>2212</th>\n",
       "      <td>2010</td>\n",
       "      <td>PIAUÍ</td>\n",
       "      <td>100.0</td>\n",
       "      <td>370</td>\n",
       "    </tr>\n",
       "    <tr>\n",
       "      <th>3590</th>\n",
       "      <td>2015</td>\n",
       "      <td>PARANÁ</td>\n",
       "      <td>5.0</td>\n",
       "      <td>362</td>\n",
       "    </tr>\n",
       "    <tr>\n",
       "      <th>2110</th>\n",
       "      <td>2010</td>\n",
       "      <td>BAHIA</td>\n",
       "      <td>5.0</td>\n",
       "      <td>252</td>\n",
       "    </tr>\n",
       "  </tbody>\n",
       "</table>\n",
       "</div>"
      ],
      "text/plain": [
       "       Ano          Estado  Denominação  Quantidade\n",
       "4337  2017       SÃO PAULO         50.0       27735\n",
       "2262  2010         SERGIPE          2.0          23\n",
       "631   2002        RONDÔNIA         20.0           2\n",
       "3497  2015  ESPÍRITO SANTO         20.0         189\n",
       "4472  2018        MARANHÃO          2.0           2\n",
       "5103  2020  ESPÍRITO SANTO        100.0        1654\n",
       "9     1996          PARANÁ        100.0          12\n",
       "2212  2010           PIAUÍ        100.0         370\n",
       "3590  2015          PARANÁ          5.0         362\n",
       "2110  2010           BAHIA          5.0         252"
      ]
     },
     "execution_count": 12,
     "metadata": {},
     "output_type": "execute_result"
    }
   ],
   "source": [
    "df.sample(10)"
   ]
  },
  {
   "cell_type": "markdown",
   "metadata": {},
   "source": [
    "## 1. Qual o total de falsificações por ano (1995 a 2020)?"
   ]
  },
  {
   "cell_type": "code",
   "execution_count": 13,
   "metadata": {},
   "outputs": [
    {
     "name": "stdout",
     "output_type": "stream",
     "text": [
      "      Quantidade         %\n",
      "Ano                       \n",
      "1995         242  0.002322\n",
      "1996       16421  0.157579\n",
      "1997         624  0.005988\n",
      "1998        6874  0.065964\n",
      "1999       29162  0.279844\n",
      "2000      329111  3.158206\n",
      "2001      381709  3.662946\n",
      "2002      413883  3.971693\n",
      "2003      548887  5.267215\n",
      "2004      499255  4.790937\n",
      "2005      448158  4.300602\n",
      "2006      638036  6.122704\n",
      "2007      678949  6.515312\n",
      "2008      538201  5.164670\n",
      "2009      503228  4.829063\n",
      "2010      434657  4.171044\n",
      "2011      434084  4.165545\n",
      "2012      519987  4.989885\n",
      "2013      551157  5.288998\n",
      "2014      529578  5.081922\n",
      "2015      477689  4.583986\n",
      "2016      506633  4.861738\n",
      "2017      548542  5.263904\n",
      "2018      561808  5.391207\n",
      "2019      498961  4.788116\n",
      "2020      324985  3.118612\n"
     ]
    },
    {
     "data": {
      "image/png": "[encoded data removed]",
      "text/plain": [
       "<Figure size 1800x720 with 1 Axes>"
      ]
     },
     "metadata": {},
     "output_type": "display_data"
    }
   ],
   "source": [
    "df_temp = df.groupby(['Ano'])['Quantidade'].sum()\n",
    "df_ano_quantidade = pd.DataFrame(df_temp)\n",
    "df_ano_quantidade['%'] = df_ano_quantidade['Quantidade'] / df_ano_quantidade['Quantidade'].sum() * 100\n",
    "\n",
    "print(df_ano_quantidade)\n",
    "\n",
    "plt.figure(figsize=(25, 10))\n",
    "plot = sns.barplot(x=df_ano_quantidade.index,\n",
    "                   y=df_ano_quantidade['Quantidade'],\n",
    "                   orient='v',\n",
    "                   palette=['darkseagreen'])\n",
    "for i in plot.patches:\n",
    "    plot.annotate(format(i.get_height(), '.0f'),\n",
    "                  (i.get_x() + i.get_width() / 2, i.get_height()),\n",
    "                  ha='center',\n",
    "                  va='baseline',\n",
    "                  fontsize=10,\n",
    "                  color='black',\n",
    "                  xytext=(0, 5),\n",
    "                  textcoords='offset points')\n",
    "plt.xlabel('')\n",
    "plt.ylabel('')\n",
    "plt.title('\\nFalsificações por ano (1995 a 2020)\\n', fontsize=20)\n",
    "plt.show(plot)\n"
   ]
  },
  {
   "cell_type": "markdown",
   "metadata": {},
   "source": [
    "## 2. Qual o total de falsificações por cédula e por ano (1995 a 2020)?"
   ]
  },
  {
   "cell_type": "code",
   "execution_count": 21,
   "metadata": {},
   "outputs": [
    {
     "name": "stdout",
     "output_type": "stream",
     "text": [
      "                  Quantidade\n",
      "Ano  Denominação            \n",
      "1995 50.0                240\n",
      "     100.0                 2\n",
      "1996 5.0                   2\n",
      "     10.0               6088\n",
      "     50.0               8001\n",
      "      Denominação  Quantidade\n",
      "Ano                          \n",
      "1995         50.0         240\n",
      "1995        100.0           2\n",
      "1996          5.0           2\n",
      "1996         10.0        6088\n",
      "1996         50.0        8001\n"
     ]
    },
    {
     "data": {
      "image/png": "[encoded data removed]",
      "text/plain": [
       "<Figure size 1800x720 with 1 Axes>"
      ]
     },
     "metadata": {},
     "output_type": "display_data"
    }
   ],
   "source": [
    "df_temp = df.groupby(['Ano','Denominação'])['Quantidade'].sum()\n",
    "df_ano_denominacao_quantidade = pd.DataFrame(df_temp)\n",
    "#df_ano_denominacao_quantidade['%'] = df_ano_denominacao_quantidade['Quantidade'] / df_ano_denominacao_quantidade['Quantidade'].sum() * 100\n",
    "\n",
    "#print(df_ano_denominacao_quantidade)\n",
    "\n",
    "print(df_ano_denominacao_quantidade.head())\n",
    "\n",
    "df_ano_denominacao_quantidade.reset_index(level = 1, inplace = True, col_level = 1)\n",
    "\n",
    "print(df_ano_denominacao_quantidade.head())\n",
    "\n",
    "plt.figure(figsize = (25,10))\n",
    "plot = sns.lineplot(x = df_ano_denominacao_quantidade.index, y = df_ano_denominacao_quantidade['Quantidade'], data = df_ano_denominacao_quantidade['Denominação'])\n",
    "plt.show(plot)\n"
   ]
  },
  {
   "cell_type": "markdown",
   "metadata": {},
   "source": [
    "## 3. Qual o total de falsificações por estado no período de 1995 a 2020?"
   ]
  },
  {
   "cell_type": "code",
   "execution_count": 16,
   "metadata": {},
   "outputs": [
    {
     "name": "stdout",
     "output_type": "stream",
     "text": [
      "                     Quantidade          %\n",
      "Estado                                    \n",
      "ACRE                       7833   0.075167\n",
      "ALAGOAS                   67894   0.651523\n",
      "AMAPÁ                     13200   0.126669\n",
      "AMAZONAS                  57908   0.555695\n",
      "BAHIA                    456902   4.384511\n",
      "CEARÁ                    224061   2.150128\n",
      "DISTRITO FEDERAL         279652   2.683589\n",
      "ESPÍRITO SANTO           120623   1.157519\n",
      "GOIÁS                    429173   4.118418\n",
      "MARANHÃO                  96554   0.926549\n",
      "MATO GROSSO               92975   0.892204\n",
      "MATO GROSSO DO SUL       226688   2.175337\n",
      "MINAS GERAIS            1035533   9.937154\n",
      "NAO INFORMADO               429   0.004117\n",
      "PARANÁ                   693219   6.652249\n",
      "PARAÍBA                   71988   0.690809\n",
      "PARÁ                     120611   1.157404\n",
      "PERNAMBUCO               334729   3.212117\n",
      "PIAUÍ                     66178   0.635056\n",
      "RIO DE JANEIRO          1142063  10.959434\n",
      "RIO GRANDE DO NORTE       65646   0.629950\n",
      "RIO GRANDE DO SUL        647918   6.217533\n",
      "RONDÔNIA                  44854   0.430427\n",
      "RORAIMA                    4712   0.045217\n",
      "SANTA CATARINA           388197   3.725206\n",
      "SERGIPE                   63070   0.605231\n",
      "SÃO PAULO               3631352  34.847082\n",
      "TOCANTINS                 36859   0.353705\n"
     ]
    },
    {
     "data": {
      "image/png": "[encoded data removed]",
      "text/plain": [
       "<Figure size 1800x720 with 1 Axes>"
      ]
     },
     "metadata": {},
     "output_type": "display_data"
    }
   ],
   "source": [
    "df_temp = df.groupby(['Estado'])['Quantidade'].sum()\n",
    "df_estado_quantidade = pd.DataFrame(df_temp)\n",
    "df_estado_quantidade['%'] = df_estado_quantidade['Quantidade'] / df_estado_quantidade['Quantidade'].sum() * 100\n",
    "\n",
    "print(df_estado_quantidade)\n",
    "\n",
    "plt.figure(figsize=(25, 10))\n",
    "plot = sns.barplot(x=df_estado_quantidade.index,\n",
    "                   y=df_estado_quantidade['Quantidade'],\n",
    "                   orient='v',\n",
    "                   palette=['mediumseagreen'])\n",
    "for i in plot.patches:\n",
    "    plot.annotate(format(i.get_height(), '.0f'),\n",
    "                  (i.get_x() + i.get_width() / 2, i.get_height()),\n",
    "                  ha='center',\n",
    "                  va='baseline',\n",
    "                  fontsize=10,\n",
    "                  color='black',\n",
    "                  xytext=(0, 5),\n",
    "                  textcoords='offset points')\n",
    "plt.xlabel('')\n",
    "plt.ylabel('')\n",
    "plt.title('\\nFalsificações por estado (1995 a 2020)\\n', fontsize=20)\n",
    "plt.show(plot)\n"
   ]
  },
  {
   "cell_type": "markdown",
   "metadata": {},
   "source": [
    "## 4. Quais os 5 estados líderes de falsificações por ano (2015 a 2020)?"
   ]
  },
  {
   "cell_type": "code",
   "execution_count": 18,
   "metadata": {},
   "outputs": [
    {
     "data": {
      "text/html": [
       "<div>\n",
       "<style scoped>\n",
       "    .dataframe tbody tr th:only-of-type {\n",
       "        vertical-align: middle;\n",
       "    }\n",
       "\n",
       "    .dataframe tbody tr th {\n",
       "        vertical-align: top;\n",
       "    }\n",
       "\n",
       "    .dataframe thead th {\n",
       "        text-align: right;\n",
       "    }\n",
       "</style>\n",
       "<table border=\"1\" class=\"dataframe\">\n",
       "  <thead>\n",
       "    <tr style=\"text-align: right;\">\n",
       "      <th></th>\n",
       "      <th>Quantidade</th>\n",
       "    </tr>\n",
       "    <tr>\n",
       "      <th>Estado</th>\n",
       "      <th></th>\n",
       "    </tr>\n",
       "  </thead>\n",
       "  <tbody>\n",
       "    <tr>\n",
       "      <th>ACRE</th>\n",
       "      <td>2468</td>\n",
       "    </tr>\n",
       "    <tr>\n",
       "      <th>ALAGOAS</th>\n",
       "      <td>17151</td>\n",
       "    </tr>\n",
       "    <tr>\n",
       "      <th>AMAPÁ</th>\n",
       "      <td>8992</td>\n",
       "    </tr>\n",
       "    <tr>\n",
       "      <th>AMAZONAS</th>\n",
       "      <td>14449</td>\n",
       "    </tr>\n",
       "    <tr>\n",
       "      <th>BAHIA</th>\n",
       "      <td>122955</td>\n",
       "    </tr>\n",
       "    <tr>\n",
       "      <th>CEARÁ</th>\n",
       "      <td>77817</td>\n",
       "    </tr>\n",
       "    <tr>\n",
       "      <th>DISTRITO FEDERAL</th>\n",
       "      <td>72633</td>\n",
       "    </tr>\n",
       "    <tr>\n",
       "      <th>ESPÍRITO SANTO</th>\n",
       "      <td>40152</td>\n",
       "    </tr>\n",
       "    <tr>\n",
       "      <th>GOIÁS</th>\n",
       "      <td>109190</td>\n",
       "    </tr>\n",
       "    <tr>\n",
       "      <th>MARANHÃO</th>\n",
       "      <td>28176</td>\n",
       "    </tr>\n",
       "    <tr>\n",
       "      <th>MATO GROSSO</th>\n",
       "      <td>32588</td>\n",
       "    </tr>\n",
       "    <tr>\n",
       "      <th>MATO GROSSO DO SUL</th>\n",
       "      <td>76082</td>\n",
       "    </tr>\n",
       "    <tr>\n",
       "      <th>MINAS GERAIS</th>\n",
       "      <td>320258</td>\n",
       "    </tr>\n",
       "    <tr>\n",
       "      <th>PARANÁ</th>\n",
       "      <td>212069</td>\n",
       "    </tr>\n",
       "    <tr>\n",
       "      <th>PARAÍBA</th>\n",
       "      <td>22384</td>\n",
       "    </tr>\n",
       "    <tr>\n",
       "      <th>PARÁ</th>\n",
       "      <td>41509</td>\n",
       "    </tr>\n",
       "    <tr>\n",
       "      <th>PERNAMBUCO</th>\n",
       "      <td>77786</td>\n",
       "    </tr>\n",
       "    <tr>\n",
       "      <th>PIAUÍ</th>\n",
       "      <td>18286</td>\n",
       "    </tr>\n",
       "    <tr>\n",
       "      <th>RIO DE JANEIRO</th>\n",
       "      <td>294425</td>\n",
       "    </tr>\n",
       "    <tr>\n",
       "      <th>RIO GRANDE DO NORTE</th>\n",
       "      <td>20837</td>\n",
       "    </tr>\n",
       "    <tr>\n",
       "      <th>RIO GRANDE DO SUL</th>\n",
       "      <td>169070</td>\n",
       "    </tr>\n",
       "    <tr>\n",
       "      <th>RONDÔNIA</th>\n",
       "      <td>12272</td>\n",
       "    </tr>\n",
       "    <tr>\n",
       "      <th>RORAIMA</th>\n",
       "      <td>2192</td>\n",
       "    </tr>\n",
       "    <tr>\n",
       "      <th>SANTA CATARINA</th>\n",
       "      <td>159519</td>\n",
       "    </tr>\n",
       "    <tr>\n",
       "      <th>SERGIPE</th>\n",
       "      <td>15121</td>\n",
       "    </tr>\n",
       "    <tr>\n",
       "      <th>SÃO PAULO</th>\n",
       "      <td>940214</td>\n",
       "    </tr>\n",
       "    <tr>\n",
       "      <th>TOCANTINS</th>\n",
       "      <td>10023</td>\n",
       "    </tr>\n",
       "  </tbody>\n",
       "</table>\n",
       "</div>"
      ],
      "text/plain": [
       "                     Quantidade\n",
       "Estado                         \n",
       "ACRE                       2468\n",
       "ALAGOAS                   17151\n",
       "AMAPÁ                      8992\n",
       "AMAZONAS                  14449\n",
       "BAHIA                    122955\n",
       "CEARÁ                     77817\n",
       "DISTRITO FEDERAL          72633\n",
       "ESPÍRITO SANTO            40152\n",
       "GOIÁS                    109190\n",
       "MARANHÃO                  28176\n",
       "MATO GROSSO               32588\n",
       "MATO GROSSO DO SUL        76082\n",
       "MINAS GERAIS             320258\n",
       "PARANÁ                   212069\n",
       "PARAÍBA                   22384\n",
       "PARÁ                      41509\n",
       "PERNAMBUCO                77786\n",
       "PIAUÍ                     18286\n",
       "RIO DE JANEIRO           294425\n",
       "RIO GRANDE DO NORTE       20837\n",
       "RIO GRANDE DO SUL        169070\n",
       "RONDÔNIA                  12272\n",
       "RORAIMA                    2192\n",
       "SANTA CATARINA           159519\n",
       "SERGIPE                   15121\n",
       "SÃO PAULO                940214\n",
       "TOCANTINS                 10023"
      ]
     },
     "execution_count": 18,
     "metadata": {},
     "output_type": "execute_result"
    }
   ],
   "source": [
    "df_temp = df['Ano'] > 2014 \n",
    "df_temp = df[df_temp]\n",
    "df_cinco_estados = df_temp.groupby(['Estado'])['Quantidade'].sum()\n",
    "df_cinco_estados = pd.DataFrame(df_cinco_estados)\n",
    "\n",
    "df_cinco_estados"
   ]
  },
  {
   "cell_type": "markdown",
   "metadata": {},
   "source": [
    "## 5. Qual a estimativa do total de falsificações por ano (2021 e 2022)?"
   ]
  },
  {
   "cell_type": "code",
   "execution_count": null,
   "metadata": {},
   "outputs": [],
   "source": []
  },
  {
   "cell_type": "markdown",
   "metadata": {},
   "source": [
    "## 6. Qual a estimativa do total de falsificações por cédula e por ano (2021 e 2022)?"
   ]
  },
  {
   "cell_type": "code",
   "execution_count": null,
   "metadata": {},
   "outputs": [],
   "source": []
  },
  {
   "cell_type": "markdown",
   "metadata": {},
   "source": [
    "## 7. Qual a estimativa do total de falsificações por estado no período de 2021 e 2022?"
   ]
  },
  {
   "cell_type": "code",
   "execution_count": null,
   "metadata": {},
   "outputs": [],
   "source": []
  }
 ],
 "metadata": {
  "interpreter": {
   "hash": "ee5cc6fef2d70a7e71ee3826687cbd150f18158e0b1eef11d4f4f92bb920e304"
  },
  "kernelspec": {
   "display_name": "Python 3",
   "language": "python",
   "name": "python3"
  },
  "language_info": {
   "codemirror_mode": {
    "name": "ipython",
    "version": 3
   },
   "file_extension": ".py",
   "mimetype": "text/x-python",
   "name": "python",
   "nbconvert_exporter": "python",
   "pygments_lexer": "ipython3",
   "version": "3.9.0"
  }
 },
 "nbformat": 4,
 "nbformat_minor": 4
}
