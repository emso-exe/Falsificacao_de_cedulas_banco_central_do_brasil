{
 "cells": [
  {
   "cell_type": "markdown",
   "metadata": {},
   "source": [
    "# Análise de dados: Falsificação de cédulas de Real (R$)\n",
    "\n",
    "Neste projeto serão analisados os dados de falsificação de cédulas de Real (R$) de 1995 até 2020, são informações (.csv) legítimas extraídas do portal de [Dados Abertos](https://dadosabertos.bcb.gov.br/) disponibilizados pelo [Banco Central do Brasil](https://www.bcb.gov.br/).\n",
    "\n",
    "## Demanda da análise\n",
    "\n",
    "- Demonstrar a evolução das falsificações\n",
    "- Identificar as cédulas mais falsificadas\n",
    "- Identificar os estados com mais incidência de falsificações\n",
    "- Estimar para os próximos anos a incidência de falsificações\n",
    "\n",
    "## Indagações a serem respondidas pela análise exploratória dos dados\n",
    "\n",
    "1. Qual a quantidade/percentual de falsificações por cédula?\n",
    "2. Qual a quantidade/percentual de falsificações por cédula?\n",
    "3. Qual a quantidade/percentual de falsificações por ano?\n",
    "4. Qual a quantidade/percentual de falsificações por ano?\n",
    "5. Qual a quantidade/percentual de falsificações por cédula/ano?\n",
    "6. Qual a quantidade/percentual de falsificações por cédula/ano?\n",
    "7. Qual a estimativa de falsificações por cédula/ano (2021 e 2022)?\n",
    "8. Qual a estimativa de falsificações por cédula/ano (2021 e 2022)?"
   ]
  },
  {
   "cell_type": "markdown",
   "metadata": {},
   "source": [
    "## Importação de pacotes"
   ]
  },
  {
   "cell_type": "code",
   "execution_count": 232,
   "metadata": {},
   "outputs": [],
   "source": [
    "# Importação de pacotes e definição de parâmetros globais\n",
    "\n",
    "import pandas as pd\n",
    "import matplotlib.pyplot as plt\n",
    "import matplotlib.patches as mp\n",
    "import seaborn as sns\n",
    "\n",
    "sns.set_style('darkgrid')"
   ]
  },
  {
   "cell_type": "markdown",
   "metadata": {},
   "source": [
    "## Carregamento dos dados"
   ]
  },
  {
   "cell_type": "code",
   "execution_count": 233,
   "metadata": {},
   "outputs": [],
   "source": [
    "# Criando um dataframe atribuindo o arquivo csv no diretório dados e definindo o nome das colunas\n",
    "\n",
    "df = pd.read_csv('dados/Falsificacao_DadosAbertos.csv', sep=';', header=None)\n",
    "\n",
    "df.columns = ['Ano', 'Estado', 'Família', 'Denominação', 'Quantidade']\n"
   ]
  },
  {
   "cell_type": "markdown",
   "metadata": {},
   "source": [
    "## Detalhes do dataframe"
   ]
  },
  {
   "cell_type": "code",
   "execution_count": 234,
   "metadata": {},
   "outputs": [
    {
     "data": {
      "text/html": [
       "<div>\n",
       "<style scoped>\n",
       "    .dataframe tbody tr th:only-of-type {\n",
       "        vertical-align: middle;\n",
       "    }\n",
       "\n",
       "    .dataframe tbody tr th {\n",
       "        vertical-align: top;\n",
       "    }\n",
       "\n",
       "    .dataframe thead th {\n",
       "        text-align: right;\n",
       "    }\n",
       "</style>\n",
       "<table border=\"1\" class=\"dataframe\">\n",
       "  <thead>\n",
       "    <tr style=\"text-align: right;\">\n",
       "      <th></th>\n",
       "      <th>Ano</th>\n",
       "      <th>Estado</th>\n",
       "      <th>Família</th>\n",
       "      <th>Denominação</th>\n",
       "      <th>Quantidade</th>\n",
       "    </tr>\n",
       "  </thead>\n",
       "  <tbody>\n",
       "    <tr>\n",
       "      <th>5348</th>\n",
       "      <td>2021</td>\n",
       "      <td>ALAGOAS</td>\n",
       "      <td>Cédulas - 1a. família</td>\n",
       "      <td>20.0</td>\n",
       "      <td>3,00</td>\n",
       "    </tr>\n",
       "    <tr>\n",
       "      <th>4842</th>\n",
       "      <td>2019</td>\n",
       "      <td>PARÁ</td>\n",
       "      <td>Cédulas - 1a. família</td>\n",
       "      <td>5.0</td>\n",
       "      <td>43,00</td>\n",
       "    </tr>\n",
       "    <tr>\n",
       "      <th>3467</th>\n",
       "      <td>2015</td>\n",
       "      <td>CEARÁ</td>\n",
       "      <td>Cédulas - 1a. família</td>\n",
       "      <td>2.0</td>\n",
       "      <td>3,00</td>\n",
       "    </tr>\n",
       "    <tr>\n",
       "      <th>3494</th>\n",
       "      <td>2015</td>\n",
       "      <td>ESPÍRITO SANTO</td>\n",
       "      <td>Cédulas - 2a. família</td>\n",
       "      <td>5.0</td>\n",
       "      <td>12,00</td>\n",
       "    </tr>\n",
       "    <tr>\n",
       "      <th>3090</th>\n",
       "      <td>2014</td>\n",
       "      <td>ACRE</td>\n",
       "      <td>Cédulas - 1a. família</td>\n",
       "      <td>5.0</td>\n",
       "      <td>6,00</td>\n",
       "    </tr>\n",
       "    <tr>\n",
       "      <th>5267</th>\n",
       "      <td>2020</td>\n",
       "      <td>RIO GRANDE DO SUL</td>\n",
       "      <td>Cédulas - 2a. família</td>\n",
       "      <td>50.0</td>\n",
       "      <td>9.993,00</td>\n",
       "    </tr>\n",
       "    <tr>\n",
       "      <th>438</th>\n",
       "      <td>2001</td>\n",
       "      <td>RIO GRANDE DO NORTE</td>\n",
       "      <td>Cédulas - 1a. família</td>\n",
       "      <td>5.0</td>\n",
       "      <td>69,00</td>\n",
       "    </tr>\n",
       "    <tr>\n",
       "      <th>767</th>\n",
       "      <td>2003</td>\n",
       "      <td>PARÁ</td>\n",
       "      <td>Cédulas - 1a. família</td>\n",
       "      <td>10.0</td>\n",
       "      <td>1.487,00</td>\n",
       "    </tr>\n",
       "    <tr>\n",
       "      <th>4979</th>\n",
       "      <td>2019</td>\n",
       "      <td>SÃO PAULO</td>\n",
       "      <td>Cédulas - em polímero</td>\n",
       "      <td>10.0</td>\n",
       "      <td>35,00</td>\n",
       "    </tr>\n",
       "    <tr>\n",
       "      <th>3891</th>\n",
       "      <td>2016</td>\n",
       "      <td>PARÁ</td>\n",
       "      <td>Cédulas - 2a. família</td>\n",
       "      <td>50.0</td>\n",
       "      <td>1.084,00</td>\n",
       "    </tr>\n",
       "  </tbody>\n",
       "</table>\n",
       "</div>"
      ],
      "text/plain": [
       "       Ano               Estado                Família  Denominação Quantidade\n",
       "5348  2021              ALAGOAS  Cédulas - 1a. família         20.0       3,00\n",
       "4842  2019                 PARÁ  Cédulas - 1a. família          5.0      43,00\n",
       "3467  2015                CEARÁ  Cédulas - 1a. família          2.0       3,00\n",
       "3494  2015       ESPÍRITO SANTO  Cédulas - 2a. família          5.0      12,00\n",
       "3090  2014                 ACRE  Cédulas - 1a. família          5.0       6,00\n",
       "5267  2020    RIO GRANDE DO SUL  Cédulas - 2a. família         50.0   9.993,00\n",
       "438   2001  RIO GRANDE DO NORTE  Cédulas - 1a. família          5.0      69,00\n",
       "767   2003                 PARÁ  Cédulas - 1a. família         10.0   1.487,00\n",
       "4979  2019            SÃO PAULO  Cédulas - em polímero         10.0      35,00\n",
       "3891  2016                 PARÁ  Cédulas - 2a. família         50.0   1.084,00"
      ]
     },
     "execution_count": 234,
     "metadata": {},
     "output_type": "execute_result"
    }
   ],
   "source": [
    "# Amostra de dados do dataframe\n",
    "\n",
    "df.sample(10)"
   ]
  },
  {
   "cell_type": "code",
   "execution_count": 235,
   "metadata": {},
   "outputs": [
    {
     "data": {
      "text/plain": [
       "(5680, 5)"
      ]
     },
     "execution_count": 235,
     "metadata": {},
     "output_type": "execute_result"
    }
   ],
   "source": [
    "# Quantidade de linhas e colunas\n",
    "\n",
    "df.shape"
   ]
  },
  {
   "cell_type": "code",
   "execution_count": 236,
   "metadata": {},
   "outputs": [
    {
     "data": {
      "text/plain": [
       "(5680, 4)"
      ]
     },
     "execution_count": 236,
     "metadata": {},
     "output_type": "execute_result"
    }
   ],
   "source": [
    "# Removendo a coluna que não será utilizada na análise\n",
    "\n",
    "df = df.drop(columns=['Família'])\n",
    "df.shape"
   ]
  },
  {
   "cell_type": "code",
   "execution_count": 237,
   "metadata": {},
   "outputs": [
    {
     "name": "stdout",
     "output_type": "stream",
     "text": [
      "<class 'pandas.core.frame.DataFrame'>\n",
      "RangeIndex: 5680 entries, 0 to 5679\n",
      "Data columns (total 4 columns):\n",
      " #   Column       Non-Null Count  Dtype  \n",
      "---  ------       --------------  -----  \n",
      " 0   Ano          5680 non-null   int64  \n",
      " 1   Estado       5680 non-null   object \n",
      " 2   Denominação  5680 non-null   float64\n",
      " 3   Quantidade   5680 non-null   object \n",
      "dtypes: float64(1), int64(1), object(2)\n",
      "memory usage: 177.6+ KB\n"
     ]
    }
   ],
   "source": [
    "# Informações das colunas como nome, contagem de linhas nulas e tipo de dados\n",
    "\n",
    "df.info()"
   ]
  },
  {
   "cell_type": "markdown",
   "metadata": {},
   "source": [
    "## Tratando valores nulos"
   ]
  },
  {
   "cell_type": "code",
   "execution_count": 238,
   "metadata": {},
   "outputs": [
    {
     "data": {
      "text/plain": [
       "Ano            0\n",
       "Estado         0\n",
       "Denominação    0\n",
       "Quantidade     0\n",
       "dtype: int64"
      ]
     },
     "execution_count": 238,
     "metadata": {},
     "output_type": "execute_result"
    }
   ],
   "source": [
    "# Identificando a quantidade de valores nulos, no caso não há dados nulos\n",
    "\n",
    "df.isnull().sum()"
   ]
  },
  {
   "cell_type": "markdown",
   "metadata": {},
   "source": [
    "## Tratando os tipos de valores"
   ]
  },
  {
   "cell_type": "code",
   "execution_count": 239,
   "metadata": {},
   "outputs": [
    {
     "data": {
      "text/plain": [
       "Ano              int64\n",
       "Estado          object\n",
       "Denominação    float64\n",
       "Quantidade      object\n",
       "dtype: object"
      ]
     },
     "execution_count": 239,
     "metadata": {},
     "output_type": "execute_result"
    }
   ],
   "source": [
    "# Identificando os tipos de dados das colunas\n",
    "\n",
    "df.dtypes"
   ]
  },
  {
   "cell_type": "code",
   "execution_count": 240,
   "metadata": {},
   "outputs": [
    {
     "name": "stdout",
     "output_type": "stream",
     "text": [
      "<class 'pandas.core.frame.DataFrame'>\n",
      "RangeIndex: 5680 entries, 0 to 5679\n",
      "Data columns (total 4 columns):\n",
      " #   Column       Non-Null Count  Dtype  \n",
      "---  ------       --------------  -----  \n",
      " 0   Ano          5680 non-null   int32  \n",
      " 1   Estado       5680 non-null   object \n",
      " 2   Denominação  5680 non-null   float64\n",
      " 3   Quantidade   5680 non-null   int32  \n",
      "dtypes: float64(1), int32(2), object(1)\n",
      "memory usage: 133.2+ KB\n"
     ]
    }
   ],
   "source": [
    "# Efetuando as conversões necessárias dos tipos de dados e exibindo novamente as informações das colunas\n",
    "\n",
    "df['Ano'] = df['Ano'].astype('int')\n",
    "\n",
    "df['Quantidade'] = [(str(i).replace('.', '')) for i in df['Quantidade']]\n",
    "df['Quantidade'] = [(str(i).replace(',', '.')) for i in df['Quantidade']]\n",
    "df['Quantidade'] = [float(str(i)) for i in df['Quantidade']]\n",
    "df['Quantidade'] = df['Quantidade'].astype('int')\n",
    "\n",
    "df.info()\n"
   ]
  },
  {
   "cell_type": "code",
   "execution_count": 241,
   "metadata": {},
   "outputs": [
    {
     "data": {
      "text/plain": [
       "Ano            5680\n",
       "Estado         5680\n",
       "Denominação    5680\n",
       "Quantidade     5680\n",
       "dtype: int64"
      ]
     },
     "execution_count": 241,
     "metadata": {},
     "output_type": "execute_result"
    }
   ],
   "source": [
    "# Contagem de linhas do dataframe\n",
    "\n",
    "df.count()"
   ]
  },
  {
   "cell_type": "markdown",
   "metadata": {},
   "source": [
    "## Selecionando o período entre 1995 e 2020"
   ]
  },
  {
   "cell_type": "code",
   "execution_count": 242,
   "metadata": {},
   "outputs": [
    {
     "name": "stdout",
     "output_type": "stream",
     "text": [
      "------------------------------ Dataframe: df_full ------------------------------\n",
      "<class 'pandas.core.frame.DataFrame'>\n",
      "RangeIndex: 5680 entries, 0 to 5679\n",
      "Data columns (total 4 columns):\n",
      " #   Column       Non-Null Count  Dtype  \n",
      "---  ------       --------------  -----  \n",
      " 0   Ano          5680 non-null   int32  \n",
      " 1   Estado       5680 non-null   object \n",
      " 2   Denominação  5680 non-null   float64\n",
      " 3   Quantidade   5680 non-null   int32  \n",
      "dtypes: float64(1), int32(2), object(1)\n",
      "memory usage: 133.2+ KB\n",
      "None\n",
      "\n",
      "\n",
      "--------------------------------- Dataframe: df ---------------------------------\n",
      "[1995 1996 1997 1998 1999 2000 2001 2002 2003 2004 2005 2006 2007 2008\n",
      " 2009 2010 2011 2012 2013 2014 2015 2016 2017 2018 2019 2020 2021 2022]\n",
      "\n",
      "\n",
      "<class 'pandas.core.frame.DataFrame'>\n",
      "Int64Index: 5337 entries, 0 to 5336\n",
      "Data columns (total 4 columns):\n",
      " #   Column       Non-Null Count  Dtype  \n",
      "---  ------       --------------  -----  \n",
      " 0   Ano          5337 non-null   int32  \n",
      " 1   Estado       5337 non-null   object \n",
      " 2   Denominação  5337 non-null   float64\n",
      " 3   Quantidade   5337 non-null   int32  \n",
      "dtypes: float64(1), int32(2), object(1)\n",
      "memory usage: 166.8+ KB\n",
      "None\n",
      "\n",
      "\n",
      "[1995 1996 1997 1998 1999 2000 2001 2002 2003 2004 2005 2006 2007 2008\n",
      " 2009 2010 2011 2012 2013 2014 2015 2016 2017 2018 2019 2020]\n"
     ]
    }
   ],
   "source": [
    "# Criando um dataframe com todos os períodos\n",
    "\n",
    "df_full = df\n",
    "\n",
    "print('-'*30, 'Dataframe: df_full', '-'*30)\n",
    "print(df_full.info())\n",
    "print('\\n')\n",
    "\n",
    "# Criando um dataframe com o período entre 1995 e 2020\n",
    "\n",
    "print('-'*33, 'Dataframe: df', '-'*33)\n",
    "print(df['Ano'].unique())\n",
    "\n",
    "df_remover = df.loc[\n",
    "    (df['Ano'] == 2021) |\n",
    "    (df['Ano'] == 2022)\n",
    "]\n",
    "\n",
    "df = df.drop(df_remover.index)\n",
    "\n",
    "print('\\n')\n",
    "print(df.info())\n",
    "print('\\n')\n",
    "print(df['Ano'].unique())\n"
   ]
  },
  {
   "cell_type": "markdown",
   "metadata": {},
   "source": [
    "## Amostra de dados do dataframe após tratamento das informações"
   ]
  },
  {
   "cell_type": "code",
   "execution_count": 243,
   "metadata": {},
   "outputs": [
    {
     "data": {
      "text/html": [
       "<div>\n",
       "<style scoped>\n",
       "    .dataframe tbody tr th:only-of-type {\n",
       "        vertical-align: middle;\n",
       "    }\n",
       "\n",
       "    .dataframe tbody tr th {\n",
       "        vertical-align: top;\n",
       "    }\n",
       "\n",
       "    .dataframe thead th {\n",
       "        text-align: right;\n",
       "    }\n",
       "</style>\n",
       "<table border=\"1\" class=\"dataframe\">\n",
       "  <thead>\n",
       "    <tr style=\"text-align: right;\">\n",
       "      <th></th>\n",
       "      <th>Ano</th>\n",
       "      <th>Estado</th>\n",
       "      <th>Denominação</th>\n",
       "      <th>Quantidade</th>\n",
       "    </tr>\n",
       "  </thead>\n",
       "  <tbody>\n",
       "    <tr>\n",
       "      <th>2815</th>\n",
       "      <td>2013</td>\n",
       "      <td>AMAPÁ</td>\n",
       "      <td>10.0</td>\n",
       "      <td>5</td>\n",
       "    </tr>\n",
       "    <tr>\n",
       "      <th>2049</th>\n",
       "      <td>2009</td>\n",
       "      <td>RORAIMA</td>\n",
       "      <td>10.0</td>\n",
       "      <td>50</td>\n",
       "    </tr>\n",
       "    <tr>\n",
       "      <th>1680</th>\n",
       "      <td>2008</td>\n",
       "      <td>ACRE</td>\n",
       "      <td>2.0</td>\n",
       "      <td>5</td>\n",
       "    </tr>\n",
       "    <tr>\n",
       "      <th>4346</th>\n",
       "      <td>2017</td>\n",
       "      <td>SERGIPE</td>\n",
       "      <td>10.0</td>\n",
       "      <td>571</td>\n",
       "    </tr>\n",
       "    <tr>\n",
       "      <th>5310</th>\n",
       "      <td>2020</td>\n",
       "      <td>SÃO PAULO</td>\n",
       "      <td>20.0</td>\n",
       "      <td>16614</td>\n",
       "    </tr>\n",
       "    <tr>\n",
       "      <th>577</th>\n",
       "      <td>2002</td>\n",
       "      <td>PARAÍBA</td>\n",
       "      <td>5.0</td>\n",
       "      <td>158</td>\n",
       "    </tr>\n",
       "    <tr>\n",
       "      <th>314</th>\n",
       "      <td>2000</td>\n",
       "      <td>SÃO PAULO</td>\n",
       "      <td>5.0</td>\n",
       "      <td>5456</td>\n",
       "    </tr>\n",
       "    <tr>\n",
       "      <th>153</th>\n",
       "      <td>1999</td>\n",
       "      <td>PARANÁ</td>\n",
       "      <td>5.0</td>\n",
       "      <td>41</td>\n",
       "    </tr>\n",
       "    <tr>\n",
       "      <th>4453</th>\n",
       "      <td>2018</td>\n",
       "      <td>ESPÍRITO SANTO</td>\n",
       "      <td>20.0</td>\n",
       "      <td>50</td>\n",
       "    </tr>\n",
       "    <tr>\n",
       "      <th>5190</th>\n",
       "      <td>2020</td>\n",
       "      <td>PARAÍBA</td>\n",
       "      <td>50.0</td>\n",
       "      <td>473</td>\n",
       "    </tr>\n",
       "  </tbody>\n",
       "</table>\n",
       "</div>"
      ],
      "text/plain": [
       "       Ano          Estado  Denominação  Quantidade\n",
       "2815  2013           AMAPÁ         10.0           5\n",
       "2049  2009         RORAIMA         10.0          50\n",
       "1680  2008            ACRE          2.0           5\n",
       "4346  2017         SERGIPE         10.0         571\n",
       "5310  2020       SÃO PAULO         20.0       16614\n",
       "577   2002         PARAÍBA          5.0         158\n",
       "314   2000       SÃO PAULO          5.0        5456\n",
       "153   1999          PARANÁ          5.0          41\n",
       "4453  2018  ESPÍRITO SANTO         20.0          50\n",
       "5190  2020         PARAÍBA         50.0         473"
      ]
     },
     "execution_count": 243,
     "metadata": {},
     "output_type": "execute_result"
    }
   ],
   "source": [
    "df.sample(10)"
   ]
  },
  {
   "cell_type": "markdown",
   "metadata": {},
   "source": [
    "## 1. Qual a quantidade/percentual de falsificações por cédula entre 1995 e 2020?"
   ]
  },
  {
   "cell_type": "code",
   "execution_count": 244,
   "metadata": {},
   "outputs": [
    {
     "data": {
      "text/html": [
       "<div>\n",
       "<style scoped>\n",
       "    .dataframe tbody tr th:only-of-type {\n",
       "        vertical-align: middle;\n",
       "    }\n",
       "\n",
       "    .dataframe tbody tr th {\n",
       "        vertical-align: top;\n",
       "    }\n",
       "\n",
       "    .dataframe thead th {\n",
       "        text-align: right;\n",
       "    }\n",
       "</style>\n",
       "<table border=\"1\" class=\"dataframe\">\n",
       "  <thead>\n",
       "    <tr style=\"text-align: right;\">\n",
       "      <th></th>\n",
       "      <th></th>\n",
       "      <th>Quantidade</th>\n",
       "    </tr>\n",
       "    <tr>\n",
       "      <th>Ano</th>\n",
       "      <th>Denominação</th>\n",
       "      <th></th>\n",
       "    </tr>\n",
       "  </thead>\n",
       "  <tbody>\n",
       "    <tr>\n",
       "      <th rowspan=\"2\" valign=\"top\">1995</th>\n",
       "      <th>50.0</th>\n",
       "      <td>240</td>\n",
       "    </tr>\n",
       "    <tr>\n",
       "      <th>100.0</th>\n",
       "      <td>2</td>\n",
       "    </tr>\n",
       "    <tr>\n",
       "      <th rowspan=\"4\" valign=\"top\">1996</th>\n",
       "      <th>5.0</th>\n",
       "      <td>2</td>\n",
       "    </tr>\n",
       "    <tr>\n",
       "      <th>10.0</th>\n",
       "      <td>6088</td>\n",
       "    </tr>\n",
       "    <tr>\n",
       "      <th>50.0</th>\n",
       "      <td>8001</td>\n",
       "    </tr>\n",
       "    <tr>\n",
       "      <th>100.0</th>\n",
       "      <td>2330</td>\n",
       "    </tr>\n",
       "    <tr>\n",
       "      <th rowspan=\"4\" valign=\"top\">1997</th>\n",
       "      <th>5.0</th>\n",
       "      <td>182</td>\n",
       "    </tr>\n",
       "    <tr>\n",
       "      <th>10.0</th>\n",
       "      <td>108</td>\n",
       "    </tr>\n",
       "    <tr>\n",
       "      <th>50.0</th>\n",
       "      <td>154</td>\n",
       "    </tr>\n",
       "    <tr>\n",
       "      <th>100.0</th>\n",
       "      <td>180</td>\n",
       "    </tr>\n",
       "  </tbody>\n",
       "</table>\n",
       "</div>"
      ],
      "text/plain": [
       "                  Quantidade\n",
       "Ano  Denominação            \n",
       "1995 50.0                240\n",
       "     100.0                 2\n",
       "1996 5.0                   2\n",
       "     10.0               6088\n",
       "     50.0               8001\n",
       "     100.0              2330\n",
       "1997 5.0                 182\n",
       "     10.0                108\n",
       "     50.0                154\n",
       "     100.0               180"
      ]
     },
     "execution_count": 244,
     "metadata": {},
     "output_type": "execute_result"
    }
   ],
   "source": [
    "df_temp = df.groupby(['Ano','Denominação'])['Quantidade'].sum()\n",
    "df_ano_denominacao_quantidade = pd.DataFrame(df_temp)\n",
    "\n",
    "df_ano_denominacao_quantidade.head(10)\n",
    "\n"
   ]
  },
  {
   "cell_type": "markdown",
   "metadata": {},
   "source": [
    "## 2. Qual a quantidade/percentual de falsificações por cédula?"
   ]
  },
  {
   "cell_type": "code",
   "execution_count": null,
   "metadata": {},
   "outputs": [],
   "source": []
  },
  {
   "cell_type": "markdown",
   "metadata": {},
   "source": [
    "## 3. Qual a quantidade/percentual de falsificações por ano?"
   ]
  },
  {
   "cell_type": "code",
   "execution_count": null,
   "metadata": {},
   "outputs": [],
   "source": []
  },
  {
   "cell_type": "markdown",
   "metadata": {},
   "source": [
    "## 4. Qual a quantidade/percentual de falsificações por ano?"
   ]
  },
  {
   "cell_type": "code",
   "execution_count": null,
   "metadata": {},
   "outputs": [],
   "source": []
  },
  {
   "cell_type": "markdown",
   "metadata": {},
   "source": [
    "## 5. Qual a quantidade/percentual de falsificações por cédula/ano?"
   ]
  },
  {
   "cell_type": "code",
   "execution_count": null,
   "metadata": {},
   "outputs": [],
   "source": []
  },
  {
   "cell_type": "markdown",
   "metadata": {},
   "source": [
    "## 6. Qual a quantidade/percentual de falsificações por cédula/ano?"
   ]
  },
  {
   "cell_type": "code",
   "execution_count": null,
   "metadata": {},
   "outputs": [],
   "source": []
  },
  {
   "cell_type": "markdown",
   "metadata": {},
   "source": [
    "## 7. Qual a estimativa de falsificações por cédula/ano (2021 e 2022)?"
   ]
  },
  {
   "cell_type": "code",
   "execution_count": null,
   "metadata": {},
   "outputs": [],
   "source": []
  },
  {
   "cell_type": "markdown",
   "metadata": {},
   "source": [
    "## 8. Qual a estimativa de falsificações por cédula/ano (2021 e 2022)?"
   ]
  },
  {
   "cell_type": "code",
   "execution_count": null,
   "metadata": {},
   "outputs": [],
   "source": []
  }
 ],
 "metadata": {
  "interpreter": {
   "hash": "ee5cc6fef2d70a7e71ee3826687cbd150f18158e0b1eef11d4f4f92bb920e304"
  },
  "kernelspec": {
   "display_name": "Python 3",
   "language": "python",
   "name": "python3"
  },
  "language_info": {
   "codemirror_mode": {
    "name": "ipython",
    "version": 3
   },
   "file_extension": ".py",
   "mimetype": "text/x-python",
   "name": "python",
   "nbconvert_exporter": "python",
   "pygments_lexer": "ipython3",
   "version": "3.9.0"
  }
 },
 "nbformat": 4,
 "nbformat_minor": 4
}
