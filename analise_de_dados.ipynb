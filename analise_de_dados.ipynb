{
 "cells": [
  {
   "cell_type": "markdown",
   "metadata": {},
   "source": [
    "# Análise de dados: Falsificação de cédulas de Real (R$)\n",
    "\n",
    "Neste projeto serão analisados os dados de falsificação de cédulas de Real (R$) de 1995 até 2020, são informações (.csv) legítimas extraídas do portal de [Dados Abertos](https://dadosabertos.bcb.gov.br/) disponibilizados pelo [Banco Central do Brasil](https://www.bcb.gov.br/).\n",
    "\n",
    "## Demanda da análise\n",
    "\n",
    "- Demonstrar a evolução das falsificações\n",
    "- Identificar as cédulas mais falsificadas\n",
    "- Identificar os estados com mais incidência de falsificações\n",
    "- Estimar para os próximos anos a incidência de falsificações\n",
    "\n",
    "## Indagações a serem respondidas pela análise exploratória dos dados\n",
    "\n",
    "1. Qual a quantidade/percentual de falsificações por cédula?\n",
    "2. Qual a quantidade/percentual de falsificações por cédula?\n",
    "3. Qual a quantidade/percentual de falsificações por ano?\n",
    "4. Qual a quantidade/percentual de falsificações por ano?\n",
    "5. Qual a quantidade/percentual de falsificações por cédula/ano?\n",
    "6. Qual a quantidade/percentual de falsificações por cédula/ano?\n",
    "7. Qual a estimativa de falsificações por cédula/ano (2021 e 2022)?\n",
    "8. Qual a estimativa de falsificações por cédula/ano (2021 e 2022)?"
   ]
  },
  {
   "cell_type": "markdown",
   "metadata": {},
   "source": [
    "## Importação de pacotes"
   ]
  },
  {
   "cell_type": "code",
   "execution_count": 59,
   "metadata": {},
   "outputs": [],
   "source": [
    "# Importação de pacotes e definição de parâmetros globais\n",
    "\n",
    "import pandas as pd\n",
    "import matplotlib.pyplot as plt\n",
    "import matplotlib.patches as mp\n",
    "import seaborn as sns\n",
    "\n",
    "sns.set_style('darkgrid')"
   ]
  },
  {
   "cell_type": "markdown",
   "metadata": {},
   "source": [
    "## Carregamento dos dados"
   ]
  },
  {
   "cell_type": "code",
   "execution_count": 60,
   "metadata": {},
   "outputs": [],
   "source": [
    "# Criando um dataframe atribuindo o arquivo csv no diretório dados e definindo o nome das colunas\n",
    "\n",
    "df = pd.read_csv('dados/Falsificacao_DadosAbertos.csv', sep=';', header=None)\n",
    "\n",
    "df.columns = ['Ano', 'Estado', 'Família', 'Denominação', 'Quantidade']\n"
   ]
  },
  {
   "cell_type": "markdown",
   "metadata": {},
   "source": [
    "## Detalhes do dataframe"
   ]
  },
  {
   "cell_type": "code",
   "execution_count": 61,
   "metadata": {},
   "outputs": [
    {
     "data": {
      "text/html": [
       "<div>\n",
       "<style scoped>\n",
       "    .dataframe tbody tr th:only-of-type {\n",
       "        vertical-align: middle;\n",
       "    }\n",
       "\n",
       "    .dataframe tbody tr th {\n",
       "        vertical-align: top;\n",
       "    }\n",
       "\n",
       "    .dataframe thead th {\n",
       "        text-align: right;\n",
       "    }\n",
       "</style>\n",
       "<table border=\"1\" class=\"dataframe\">\n",
       "  <thead>\n",
       "    <tr style=\"text-align: right;\">\n",
       "      <th></th>\n",
       "      <th>Ano</th>\n",
       "      <th>Estado</th>\n",
       "      <th>Família</th>\n",
       "      <th>Denominação</th>\n",
       "      <th>Quantidade</th>\n",
       "    </tr>\n",
       "  </thead>\n",
       "  <tbody>\n",
       "    <tr>\n",
       "      <th>5123</th>\n",
       "      <td>2020</td>\n",
       "      <td>MARANHÃO</td>\n",
       "      <td>Cédulas - 2a. família</td>\n",
       "      <td>10.0</td>\n",
       "      <td>54,00</td>\n",
       "    </tr>\n",
       "    <tr>\n",
       "      <th>4636</th>\n",
       "      <td>2018</td>\n",
       "      <td>RORAIMA</td>\n",
       "      <td>Cédulas - 2a. família</td>\n",
       "      <td>50.0</td>\n",
       "      <td>64,00</td>\n",
       "    </tr>\n",
       "    <tr>\n",
       "      <th>4086</th>\n",
       "      <td>2017</td>\n",
       "      <td>BAHIA</td>\n",
       "      <td>Cédulas - 1a. família</td>\n",
       "      <td>2.0</td>\n",
       "      <td>85,00</td>\n",
       "    </tr>\n",
       "    <tr>\n",
       "      <th>3546</th>\n",
       "      <td>2015</td>\n",
       "      <td>MATO GROSSO DO SUL</td>\n",
       "      <td>Cédulas - 2a. família</td>\n",
       "      <td>20.0</td>\n",
       "      <td>60,00</td>\n",
       "    </tr>\n",
       "    <tr>\n",
       "      <th>5396</th>\n",
       "      <td>2021</td>\n",
       "      <td>CEARÁ</td>\n",
       "      <td>Cédulas - 2a. família</td>\n",
       "      <td>200.0</td>\n",
       "      <td>188,00</td>\n",
       "    </tr>\n",
       "    <tr>\n",
       "      <th>2764</th>\n",
       "      <td>2012</td>\n",
       "      <td>SÃO PAULO</td>\n",
       "      <td>Cédulas - 1a. família</td>\n",
       "      <td>20.0</td>\n",
       "      <td>17.928,00</td>\n",
       "    </tr>\n",
       "    <tr>\n",
       "      <th>2478</th>\n",
       "      <td>2011</td>\n",
       "      <td>SANTA CATARINA</td>\n",
       "      <td>Cédulas - 1a. família</td>\n",
       "      <td>20.0</td>\n",
       "      <td>2.788,00</td>\n",
       "    </tr>\n",
       "    <tr>\n",
       "      <th>5023</th>\n",
       "      <td>2020</td>\n",
       "      <td>ALAGOAS</td>\n",
       "      <td>Cédulas - 2a. família</td>\n",
       "      <td>5.0</td>\n",
       "      <td>64,00</td>\n",
       "    </tr>\n",
       "    <tr>\n",
       "      <th>3207</th>\n",
       "      <td>2014</td>\n",
       "      <td>MATO GROSSO</td>\n",
       "      <td>Cédulas - 2a. família</td>\n",
       "      <td>2.0</td>\n",
       "      <td>2,00</td>\n",
       "    </tr>\n",
       "    <tr>\n",
       "      <th>2778</th>\n",
       "      <td>2012</td>\n",
       "      <td>SERGIPE</td>\n",
       "      <td>Cédulas - 2a. família</td>\n",
       "      <td>50.0</td>\n",
       "      <td>601,00</td>\n",
       "    </tr>\n",
       "  </tbody>\n",
       "</table>\n",
       "</div>"
      ],
      "text/plain": [
       "       Ano              Estado                Família  Denominação Quantidade\n",
       "5123  2020            MARANHÃO  Cédulas - 2a. família         10.0      54,00\n",
       "4636  2018             RORAIMA  Cédulas - 2a. família         50.0      64,00\n",
       "4086  2017               BAHIA  Cédulas - 1a. família          2.0      85,00\n",
       "3546  2015  MATO GROSSO DO SUL  Cédulas - 2a. família         20.0      60,00\n",
       "5396  2021               CEARÁ  Cédulas - 2a. família        200.0     188,00\n",
       "2764  2012           SÃO PAULO  Cédulas - 1a. família         20.0  17.928,00\n",
       "2478  2011      SANTA CATARINA  Cédulas - 1a. família         20.0   2.788,00\n",
       "5023  2020             ALAGOAS  Cédulas - 2a. família          5.0      64,00\n",
       "3207  2014         MATO GROSSO  Cédulas - 2a. família          2.0       2,00\n",
       "2778  2012             SERGIPE  Cédulas - 2a. família         50.0     601,00"
      ]
     },
     "execution_count": 61,
     "metadata": {},
     "output_type": "execute_result"
    }
   ],
   "source": [
    "# Amostra de dados do dataframe\n",
    "\n",
    "df.sample(10)"
   ]
  },
  {
   "cell_type": "code",
   "execution_count": 62,
   "metadata": {},
   "outputs": [
    {
     "data": {
      "text/plain": [
       "(5680, 5)"
      ]
     },
     "execution_count": 62,
     "metadata": {},
     "output_type": "execute_result"
    }
   ],
   "source": [
    "# Quantidade de linhas e colunas\n",
    "\n",
    "df.shape"
   ]
  },
  {
   "cell_type": "code",
   "execution_count": 63,
   "metadata": {},
   "outputs": [
    {
     "data": {
      "text/plain": [
       "(5680, 4)"
      ]
     },
     "execution_count": 63,
     "metadata": {},
     "output_type": "execute_result"
    }
   ],
   "source": [
    "# Removendo a coluna que não será utilizada na análise\n",
    "\n",
    "df = df.drop(columns=['Família'])\n",
    "df.shape"
   ]
  },
  {
   "cell_type": "code",
   "execution_count": 64,
   "metadata": {},
   "outputs": [
    {
     "name": "stdout",
     "output_type": "stream",
     "text": [
      "<class 'pandas.core.frame.DataFrame'>\n",
      "RangeIndex: 5680 entries, 0 to 5679\n",
      "Data columns (total 4 columns):\n",
      " #   Column       Non-Null Count  Dtype  \n",
      "---  ------       --------------  -----  \n",
      " 0   Ano          5680 non-null   int64  \n",
      " 1   Estado       5680 non-null   object \n",
      " 2   Denominação  5680 non-null   float64\n",
      " 3   Quantidade   5680 non-null   object \n",
      "dtypes: float64(1), int64(1), object(2)\n",
      "memory usage: 177.6+ KB\n"
     ]
    }
   ],
   "source": [
    "# Informações das colunas como nome, contagem de linhas nulas e tipo de dados\n",
    "\n",
    "df.info()"
   ]
  },
  {
   "cell_type": "markdown",
   "metadata": {},
   "source": [
    "## Tratando valores nulos"
   ]
  },
  {
   "cell_type": "code",
   "execution_count": 65,
   "metadata": {},
   "outputs": [
    {
     "data": {
      "text/plain": [
       "Ano            0\n",
       "Estado         0\n",
       "Denominação    0\n",
       "Quantidade     0\n",
       "dtype: int64"
      ]
     },
     "execution_count": 65,
     "metadata": {},
     "output_type": "execute_result"
    }
   ],
   "source": [
    "# Identificando a quantidade de valores nulos, no caso não há dados nulos\n",
    "\n",
    "df.isnull().sum()"
   ]
  },
  {
   "cell_type": "markdown",
   "metadata": {},
   "source": [
    "## Tratando os tipos de valores"
   ]
  },
  {
   "cell_type": "code",
   "execution_count": 66,
   "metadata": {},
   "outputs": [
    {
     "data": {
      "text/plain": [
       "Ano              int64\n",
       "Estado          object\n",
       "Denominação    float64\n",
       "Quantidade      object\n",
       "dtype: object"
      ]
     },
     "execution_count": 66,
     "metadata": {},
     "output_type": "execute_result"
    }
   ],
   "source": [
    "# Identificando os tipos de dados das colunas\n",
    "\n",
    "df.dtypes"
   ]
  },
  {
   "cell_type": "code",
   "execution_count": 67,
   "metadata": {},
   "outputs": [
    {
     "name": "stdout",
     "output_type": "stream",
     "text": [
      "<class 'pandas.core.frame.DataFrame'>\n",
      "RangeIndex: 5680 entries, 0 to 5679\n",
      "Data columns (total 4 columns):\n",
      " #   Column       Non-Null Count  Dtype  \n",
      "---  ------       --------------  -----  \n",
      " 0   Ano          5680 non-null   int32  \n",
      " 1   Estado       5680 non-null   object \n",
      " 2   Denominação  5680 non-null   float64\n",
      " 3   Quantidade   5680 non-null   int32  \n",
      "dtypes: float64(1), int32(2), object(1)\n",
      "memory usage: 133.2+ KB\n"
     ]
    }
   ],
   "source": [
    "# Efetuando as conversões necessárias dos tipos de dados e exibindo novamente as informações das colunas\n",
    "\n",
    "df['Ano'] = df['Ano'].astype('int')\n",
    "\n",
    "\n",
    "df['Quantidade'] = [float(str(i).replace(\",\", \"\")) for i in df['Quantidade']]\n",
    "df['Quantidade'] = df['Quantidade'].astype('int')\n",
    "\n",
    "df.info()\n"
   ]
  },
  {
   "cell_type": "code",
   "execution_count": 68,
   "metadata": {},
   "outputs": [
    {
     "data": {
      "text/plain": [
       "Ano            5680\n",
       "Estado         5680\n",
       "Denominação    5680\n",
       "Quantidade     5680\n",
       "dtype: int64"
      ]
     },
     "execution_count": 68,
     "metadata": {},
     "output_type": "execute_result"
    }
   ],
   "source": [
    "# Contagem de linhas do dataframe\n",
    "\n",
    "df.count()"
   ]
  },
  {
   "cell_type": "markdown",
   "metadata": {},
   "source": [
    "## Amostra de dados do dataframe após tratamento das informações"
   ]
  },
  {
   "cell_type": "code",
   "execution_count": 69,
   "metadata": {},
   "outputs": [
    {
     "data": {
      "text/html": [
       "<div>\n",
       "<style scoped>\n",
       "    .dataframe tbody tr th:only-of-type {\n",
       "        vertical-align: middle;\n",
       "    }\n",
       "\n",
       "    .dataframe tbody tr th {\n",
       "        vertical-align: top;\n",
       "    }\n",
       "\n",
       "    .dataframe thead th {\n",
       "        text-align: right;\n",
       "    }\n",
       "</style>\n",
       "<table border=\"1\" class=\"dataframe\">\n",
       "  <thead>\n",
       "    <tr style=\"text-align: right;\">\n",
       "      <th></th>\n",
       "      <th>Ano</th>\n",
       "      <th>Estado</th>\n",
       "      <th>Denominação</th>\n",
       "      <th>Quantidade</th>\n",
       "    </tr>\n",
       "  </thead>\n",
       "  <tbody>\n",
       "    <tr>\n",
       "      <th>2836</th>\n",
       "      <td>2013</td>\n",
       "      <td>BAHIA</td>\n",
       "      <td>10.0</td>\n",
       "      <td>700</td>\n",
       "    </tr>\n",
       "    <tr>\n",
       "      <th>1787</th>\n",
       "      <td>2008</td>\n",
       "      <td>PARÁ</td>\n",
       "      <td>100.0</td>\n",
       "      <td>11300</td>\n",
       "    </tr>\n",
       "    <tr>\n",
       "      <th>1972</th>\n",
       "      <td>2009</td>\n",
       "      <td>MINAS GERAIS</td>\n",
       "      <td>10.0</td>\n",
       "      <td>4</td>\n",
       "    </tr>\n",
       "    <tr>\n",
       "      <th>324</th>\n",
       "      <td>2000</td>\n",
       "      <td>TOCANTINS</td>\n",
       "      <td>5.0</td>\n",
       "      <td>3300</td>\n",
       "    </tr>\n",
       "    <tr>\n",
       "      <th>3289</th>\n",
       "      <td>2014</td>\n",
       "      <td>PERNAMBUCO</td>\n",
       "      <td>20.0</td>\n",
       "      <td>67700</td>\n",
       "    </tr>\n",
       "    <tr>\n",
       "      <th>176</th>\n",
       "      <td>1999</td>\n",
       "      <td>RIO GRANDE DO SUL</td>\n",
       "      <td>50.0</td>\n",
       "      <td>24400</td>\n",
       "    </tr>\n",
       "    <tr>\n",
       "      <th>4731</th>\n",
       "      <td>2019</td>\n",
       "      <td>BAHIA</td>\n",
       "      <td>2.0</td>\n",
       "      <td>1400</td>\n",
       "    </tr>\n",
       "    <tr>\n",
       "      <th>3185</th>\n",
       "      <td>2014</td>\n",
       "      <td>GOIÁS</td>\n",
       "      <td>10.0</td>\n",
       "      <td>100</td>\n",
       "    </tr>\n",
       "    <tr>\n",
       "      <th>2156</th>\n",
       "      <td>2010</td>\n",
       "      <td>MATO GROSSO</td>\n",
       "      <td>10.0</td>\n",
       "      <td>21700</td>\n",
       "    </tr>\n",
       "    <tr>\n",
       "      <th>1198</th>\n",
       "      <td>2005</td>\n",
       "      <td>PIAUÍ</td>\n",
       "      <td>2.0</td>\n",
       "      <td>800</td>\n",
       "    </tr>\n",
       "  </tbody>\n",
       "</table>\n",
       "</div>"
      ],
      "text/plain": [
       "       Ano             Estado  Denominação  Quantidade\n",
       "2836  2013              BAHIA         10.0         700\n",
       "1787  2008               PARÁ        100.0       11300\n",
       "1972  2009       MINAS GERAIS         10.0           4\n",
       "324   2000          TOCANTINS          5.0        3300\n",
       "3289  2014         PERNAMBUCO         20.0       67700\n",
       "176   1999  RIO GRANDE DO SUL         50.0       24400\n",
       "4731  2019              BAHIA          2.0        1400\n",
       "3185  2014              GOIÁS         10.0         100\n",
       "2156  2010        MATO GROSSO         10.0       21700\n",
       "1198  2005              PIAUÍ          2.0         800"
      ]
     },
     "execution_count": 69,
     "metadata": {},
     "output_type": "execute_result"
    }
   ],
   "source": [
    "df.sample(10)"
   ]
  },
  {
   "cell_type": "markdown",
   "metadata": {},
   "source": [
    "## 1. Qual a quantidade/percentual de falsificações por cédula?"
   ]
  },
  {
   "cell_type": "code",
   "execution_count": null,
   "metadata": {},
   "outputs": [],
   "source": []
  },
  {
   "cell_type": "markdown",
   "metadata": {},
   "source": [
    "## 2. Qual a quantidade/percentual de falsificações por cédula?"
   ]
  },
  {
   "cell_type": "code",
   "execution_count": null,
   "metadata": {},
   "outputs": [],
   "source": []
  },
  {
   "cell_type": "markdown",
   "metadata": {},
   "source": [
    "## 3. Qual a quantidade/percentual de falsificações por ano?"
   ]
  },
  {
   "cell_type": "code",
   "execution_count": null,
   "metadata": {},
   "outputs": [],
   "source": []
  },
  {
   "cell_type": "markdown",
   "metadata": {},
   "source": [
    "## 4. Qual a quantidade/percentual de falsificações por ano?"
   ]
  },
  {
   "cell_type": "code",
   "execution_count": null,
   "metadata": {},
   "outputs": [],
   "source": []
  },
  {
   "cell_type": "markdown",
   "metadata": {},
   "source": [
    "## 5. Qual a quantidade/percentual de falsificações por cédula/ano?"
   ]
  },
  {
   "cell_type": "code",
   "execution_count": null,
   "metadata": {},
   "outputs": [],
   "source": []
  },
  {
   "cell_type": "markdown",
   "metadata": {},
   "source": [
    "## 6. Qual a quantidade/percentual de falsificações por cédula/ano?"
   ]
  },
  {
   "cell_type": "code",
   "execution_count": null,
   "metadata": {},
   "outputs": [],
   "source": []
  },
  {
   "cell_type": "markdown",
   "metadata": {},
   "source": [
    "## 7. Qual a estimativa de falsificações por cédula/ano (2021 e 2022)?"
   ]
  },
  {
   "cell_type": "code",
   "execution_count": null,
   "metadata": {},
   "outputs": [],
   "source": []
  },
  {
   "cell_type": "markdown",
   "metadata": {},
   "source": [
    "## 8. Qual a estimativa de falsificações por cédula/ano (2021 e 2022)?"
   ]
  },
  {
   "cell_type": "code",
   "execution_count": null,
   "metadata": {},
   "outputs": [],
   "source": []
  }
 ],
 "metadata": {
  "interpreter": {
   "hash": "ee5cc6fef2d70a7e71ee3826687cbd150f18158e0b1eef11d4f4f92bb920e304"
  },
  "kernelspec": {
   "display_name": "Python 3",
   "language": "python",
   "name": "python3"
  },
  "language_info": {
   "codemirror_mode": {
    "name": "ipython",
    "version": 3
   },
   "file_extension": ".py",
   "mimetype": "text/x-python",
   "name": "python",
   "nbconvert_exporter": "python",
   "pygments_lexer": "ipython3",
   "version": "3.9.0"
  }
 },
 "nbformat": 4,
 "nbformat_minor": 4
}
